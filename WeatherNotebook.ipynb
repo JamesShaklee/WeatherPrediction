{
 "cells": [
  {
   "cell_type": "markdown",
   "id": "b98257b60a5160aa",
   "metadata": {},
   "source": [
    "# AI Weather Prediction Project Notebook"
   ]
  },
  {
   "cell_type": "markdown",
   "id": "3e9898a242867081",
   "metadata": {},
   "source": [
    "#### Order\n",
    "1. Decision Tree Regressor\n",
    "2. XGBoost Classification: Precipitation Percentage\n",
    "3. XGBoost Classification: Precipitation Category\n",
    "4. TensorFlow Neuro Network"
   ]
  },
  {
   "cell_type": "markdown",
   "id": "3f73413fe108e416",
   "metadata": {},
   "source": [
    "#### Load Libraries to be used by all models. "
   ]
  },
  {
   "cell_type": "code",
   "id": "da23b072a22908f9",
   "metadata": {
    "ExecuteTime": {
     "end_time": "2024-10-14T20:36:10.941117Z",
     "start_time": "2024-10-14T20:36:10.929075Z"
    }
   },
   "source": [
    "import numpy as np\n",
    "import pandas as pd\n",
    "import matplotlib.pyplot as plt\n",
    "import xgboost\n",
    "\n",
    "from sklearn.metrics import r2_score, accuracy_score, confusion_matrix, ConfusionMatrixDisplay\n",
    "from sklearn.model_selection import train_test_split\n",
    "from sklearn.preprocessing import LabelEncoder\n",
    "from sklearn.tree import DecisionTreeRegressor\n",
    "\n",
    "from joblib import dump, load\n",
    "\n",
    "plt.rcParams['figure.figsize']=(6,4)"
   ],
   "outputs": [],
   "execution_count": 873
  },
  {
   "cell_type": "code",
   "id": "a60f73fe-9325-4353-9f07-53cf98ae83c0",
   "metadata": {
    "ExecuteTime": {
     "end_time": "2024-10-14T20:36:12.016174Z",
     "start_time": "2024-10-14T20:36:11.079599Z"
    }
   },
   "source": [
    "!pip install openpyxl"
   ],
   "outputs": [
    {
     "name": "stdout",
     "output_type": "stream",
     "text": [
      "Requirement already satisfied: openpyxl in c:\\users\\david\\pycharmprojects\\pythonproject\\.venv\\lib\\site-packages (3.1.5)\n",
      "Requirement already satisfied: et-xmlfile in c:\\users\\david\\pycharmprojects\\pythonproject\\.venv\\lib\\site-packages (from openpyxl) (1.1.0)\n"
     ]
    },
    {
     "name": "stderr",
     "output_type": "stream",
     "text": [
      "\n",
      "[notice] A new release of pip is available: 23.2.1 -> 24.2\n",
      "[notice] To update, run: python.exe -m pip install --upgrade pip\n"
     ]
    }
   ],
   "execution_count": 874
  },
  {
   "cell_type": "code",
   "id": "b7e027934e323d89",
   "metadata": {
    "ExecuteTime": {
     "end_time": "2024-10-14T20:36:12.064372Z",
     "start_time": "2024-10-14T20:36:12.049311Z"
    }
   },
   "source": [
    "from matplotlib.colors import ListedColormap\n",
    "\n",
    "def plot_decision_regions(X, y, classifier, resolution=0.02):\n",
    "\n",
    "    # setup marker generator and color map\n",
    "    markers = ('s', 'x', 'o', '^', 'v')\n",
    "    colors = ('red', 'blue', 'lightgreen', 'gray', 'cyan')\n",
    "    cmap = ListedColormap(colors[:len(np.unique(y))])\n",
    "\n",
    "    # plot the decision surface\n",
    "    x1_min, x1_max = X[:, 0].min() - 1, X[:, 0].max() + 1\n",
    "    x2_min, x2_max = X[:, 1].min() - 1, X[:, 1].max() + 1\n",
    "    xx1, xx2 = np.meshgrid(np.arange(x1_min, x1_max, resolution),\n",
    "                           np.arange(x2_min, x2_max, resolution))\n",
    "    Z = classifier.predict(np.array([xx1.ravel(), xx2.ravel()]).T)\n",
    "    Z = Z.reshape(xx1.shape)\n",
    "    plt.contourf(xx1, xx2, Z, alpha=0.3, cmap=cmap)\n",
    "    plt.xlim(xx1.min(), xx1.max())\n",
    "    plt.ylim(xx2.min(), xx2.max())\n",
    "\n",
    "    for idx, cl in enumerate(np.unique(y)):\n",
    "        plt.scatter(x=X[y == cl, 0], \n",
    "                    y=X[y == cl, 1],\n",
    "                    alpha=0.8, \n",
    "                    color=colors[idx],\n",
    "                    marker=markers[idx], \n",
    "                    label=cl, \n",
    "                    edgecolor='black')"
   ],
   "outputs": [],
   "execution_count": 875
  },
  {
   "cell_type": "markdown",
   "id": "6faffda76df85609",
   "metadata": {},
   "source": [
    "## Decision Tree Regressor"
   ]
  },
  {
   "cell_type": "code",
   "id": "2478ad3d65f997a5",
   "metadata": {
    "ExecuteTime": {
     "end_time": "2024-10-14T20:36:13.036476Z",
     "start_time": "2024-10-14T20:36:12.096986Z"
    }
   },
   "source": [
    "weather_data = pd.read_csv('weather_data_excel.csv')\n",
    "print(weather_data.columns)\n"
   ],
   "outputs": [
    {
     "name": "stdout",
     "output_type": "stream",
     "text": [
      "Index(['Location', 'Date_Time', 'Temperature_C', 'Humidity_pct',\n",
      "       'Precipitation_mm', 'Wind_Speed_kmh', 'Temperature_F', 'Date',\n",
      "       'Military_Time', 'Rain_Category', 'Rain_Cat_Num', 'Precipitation_in'],\n",
      "      dtype='object')\n"
     ]
    }
   ],
   "execution_count": 876
  },
  {
   "metadata": {
    "ExecuteTime": {
     "end_time": "2024-10-14T20:36:13.084478Z",
     "start_time": "2024-10-14T20:36:13.069590Z"
    }
   },
   "cell_type": "code",
   "source": [
    "y = weather_data['Precipitation_mm']\n",
    "X = weather_data.drop(columns=['Precipitation_mm', 'Rain_Category', 'Location', 'Date', 'Military_Time',  'Precipitation_in', 'Temperature_C', 'Rain_Cat_Num', 'Date_Time'])"
   ],
   "id": "3cafef8d00cf60d",
   "outputs": [],
   "execution_count": 877
  },
  {
   "cell_type": "code",
   "id": "cab8b7b6becb88",
   "metadata": {
    "ExecuteTime": {
     "end_time": "2024-10-14T20:36:13.132646Z",
     "start_time": "2024-10-14T20:36:13.116590Z"
    }
   },
   "source": [
    "X.columns"
   ],
   "outputs": [
    {
     "data": {
      "text/plain": [
       "Index(['Humidity_pct', 'Wind_Speed_kmh', 'Temperature_F'], dtype='object')"
      ]
     },
     "execution_count": 878,
     "metadata": {},
     "output_type": "execute_result"
    }
   ],
   "execution_count": 878
  },
  {
   "cell_type": "code",
   "id": "e4a9aaee971b1a56",
   "metadata": {
    "ExecuteTime": {
     "end_time": "2024-10-14T20:36:13.196869Z",
     "start_time": "2024-10-14T20:36:13.165761Z"
    }
   },
   "source": [
    "y.describe()"
   ],
   "outputs": [
    {
     "data": {
      "text/plain": [
       "count    1000000.000000\n",
       "mean           5.109639\n",
       "std            2.947997\n",
       "min            0.000009\n",
       "25%            2.580694\n",
       "50%            5.109917\n",
       "75%            7.613750\n",
       "max           14.971583\n",
       "Name: Precipitation_mm, dtype: float64"
      ]
     },
     "execution_count": 879,
     "metadata": {},
     "output_type": "execute_result"
    }
   ],
   "execution_count": 879
  },
  {
   "cell_type": "code",
   "id": "52c1e358aa202bce",
   "metadata": {
    "ExecuteTime": {
     "end_time": "2024-10-14T20:36:13.322805Z",
     "start_time": "2024-10-14T20:36:13.260089Z"
    }
   },
   "source": [
    "X_train, X_test, y_train, y_test = train_test_split(X, y, test_size=0.2)\n"
   ],
   "outputs": [],
   "execution_count": 880
  },
  {
   "cell_type": "code",
   "id": "51788d307eea6d8c",
   "metadata": {
    "ExecuteTime": {
     "end_time": "2024-10-14T20:36:13.466305Z",
     "start_time": "2024-10-14T20:36:13.456270Z"
    }
   },
   "source": [
    "print('X_train.shape = ', X_train.shape)\n",
    "print('y_train.shape = ', y_train.shape)\n",
    "print('X_test.shape = ', X_test.shape)\n",
    "print('y_test.shape = ', y_test.shape)"
   ],
   "outputs": [
    {
     "name": "stdout",
     "output_type": "stream",
     "text": [
      "X_train.shape =  (800000, 3)\n",
      "y_train.shape =  (800000,)\n",
      "X_test.shape =  (200000, 3)\n",
      "y_test.shape =  (200000,)\n"
     ]
    }
   ],
   "execution_count": 881
  },
  {
   "cell_type": "code",
   "id": "9bd5eee1f50dfae0",
   "metadata": {
    "ExecuteTime": {
     "end_time": "2024-10-14T20:36:16.632640Z",
     "start_time": "2024-10-14T20:36:13.536550Z"
    }
   },
   "source": [
    "dt = DecisionTreeRegressor(max_depth=10)\n",
    "dt.fit(X_train, y_train)"
   ],
   "outputs": [
    {
     "data": {
      "text/plain": [
       "DecisionTreeRegressor(max_depth=10)"
      ],
      "text/html": [
       "<style>#sk-container-id-54 {\n",
       "  /* Definition of color scheme common for light and dark mode */\n",
       "  --sklearn-color-text: black;\n",
       "  --sklearn-color-line: gray;\n",
       "  /* Definition of color scheme for unfitted estimators */\n",
       "  --sklearn-color-unfitted-level-0: #fff5e6;\n",
       "  --sklearn-color-unfitted-level-1: #f6e4d2;\n",
       "  --sklearn-color-unfitted-level-2: #ffe0b3;\n",
       "  --sklearn-color-unfitted-level-3: chocolate;\n",
       "  /* Definition of color scheme for fitted estimators */\n",
       "  --sklearn-color-fitted-level-0: #f0f8ff;\n",
       "  --sklearn-color-fitted-level-1: #d4ebff;\n",
       "  --sklearn-color-fitted-level-2: #b3dbfd;\n",
       "  --sklearn-color-fitted-level-3: cornflowerblue;\n",
       "\n",
       "  /* Specific color for light theme */\n",
       "  --sklearn-color-text-on-default-background: var(--sg-text-color, var(--theme-code-foreground, var(--jp-content-font-color1, black)));\n",
       "  --sklearn-color-background: var(--sg-background-color, var(--theme-background, var(--jp-layout-color0, white)));\n",
       "  --sklearn-color-border-box: var(--sg-text-color, var(--theme-code-foreground, var(--jp-content-font-color1, black)));\n",
       "  --sklearn-color-icon: #696969;\n",
       "\n",
       "  @media (prefers-color-scheme: dark) {\n",
       "    /* Redefinition of color scheme for dark theme */\n",
       "    --sklearn-color-text-on-default-background: var(--sg-text-color, var(--theme-code-foreground, var(--jp-content-font-color1, white)));\n",
       "    --sklearn-color-background: var(--sg-background-color, var(--theme-background, var(--jp-layout-color0, #111)));\n",
       "    --sklearn-color-border-box: var(--sg-text-color, var(--theme-code-foreground, var(--jp-content-font-color1, white)));\n",
       "    --sklearn-color-icon: #878787;\n",
       "  }\n",
       "}\n",
       "\n",
       "#sk-container-id-54 {\n",
       "  color: var(--sklearn-color-text);\n",
       "}\n",
       "\n",
       "#sk-container-id-54 pre {\n",
       "  padding: 0;\n",
       "}\n",
       "\n",
       "#sk-container-id-54 input.sk-hidden--visually {\n",
       "  border: 0;\n",
       "  clip: rect(1px 1px 1px 1px);\n",
       "  clip: rect(1px, 1px, 1px, 1px);\n",
       "  height: 1px;\n",
       "  margin: -1px;\n",
       "  overflow: hidden;\n",
       "  padding: 0;\n",
       "  position: absolute;\n",
       "  width: 1px;\n",
       "}\n",
       "\n",
       "#sk-container-id-54 div.sk-dashed-wrapped {\n",
       "  border: 1px dashed var(--sklearn-color-line);\n",
       "  margin: 0 0.4em 0.5em 0.4em;\n",
       "  box-sizing: border-box;\n",
       "  padding-bottom: 0.4em;\n",
       "  background-color: var(--sklearn-color-background);\n",
       "}\n",
       "\n",
       "#sk-container-id-54 div.sk-container {\n",
       "  /* jupyter's `normalize.less` sets `[hidden] { display: none; }`\n",
       "     but bootstrap.min.css set `[hidden] { display: none !important; }`\n",
       "     so we also need the `!important` here to be able to override the\n",
       "     default hidden behavior on the sphinx rendered scikit-learn.org.\n",
       "     See: https://github.com/scikit-learn/scikit-learn/issues/21755 */\n",
       "  display: inline-block !important;\n",
       "  position: relative;\n",
       "}\n",
       "\n",
       "#sk-container-id-54 div.sk-text-repr-fallback {\n",
       "  display: none;\n",
       "}\n",
       "\n",
       "div.sk-parallel-item,\n",
       "div.sk-serial,\n",
       "div.sk-item {\n",
       "  /* draw centered vertical line to link estimators */\n",
       "  background-image: linear-gradient(var(--sklearn-color-text-on-default-background), var(--sklearn-color-text-on-default-background));\n",
       "  background-size: 2px 100%;\n",
       "  background-repeat: no-repeat;\n",
       "  background-position: center center;\n",
       "}\n",
       "\n",
       "/* Parallel-specific style estimator block */\n",
       "\n",
       "#sk-container-id-54 div.sk-parallel-item::after {\n",
       "  content: \"\";\n",
       "  width: 100%;\n",
       "  border-bottom: 2px solid var(--sklearn-color-text-on-default-background);\n",
       "  flex-grow: 1;\n",
       "}\n",
       "\n",
       "#sk-container-id-54 div.sk-parallel {\n",
       "  display: flex;\n",
       "  align-items: stretch;\n",
       "  justify-content: center;\n",
       "  background-color: var(--sklearn-color-background);\n",
       "  position: relative;\n",
       "}\n",
       "\n",
       "#sk-container-id-54 div.sk-parallel-item {\n",
       "  display: flex;\n",
       "  flex-direction: column;\n",
       "}\n",
       "\n",
       "#sk-container-id-54 div.sk-parallel-item:first-child::after {\n",
       "  align-self: flex-end;\n",
       "  width: 50%;\n",
       "}\n",
       "\n",
       "#sk-container-id-54 div.sk-parallel-item:last-child::after {\n",
       "  align-self: flex-start;\n",
       "  width: 50%;\n",
       "}\n",
       "\n",
       "#sk-container-id-54 div.sk-parallel-item:only-child::after {\n",
       "  width: 0;\n",
       "}\n",
       "\n",
       "/* Serial-specific style estimator block */\n",
       "\n",
       "#sk-container-id-54 div.sk-serial {\n",
       "  display: flex;\n",
       "  flex-direction: column;\n",
       "  align-items: center;\n",
       "  background-color: var(--sklearn-color-background);\n",
       "  padding-right: 1em;\n",
       "  padding-left: 1em;\n",
       "}\n",
       "\n",
       "\n",
       "/* Toggleable style: style used for estimator/Pipeline/ColumnTransformer box that is\n",
       "clickable and can be expanded/collapsed.\n",
       "- Pipeline and ColumnTransformer use this feature and define the default style\n",
       "- Estimators will overwrite some part of the style using the `sk-estimator` class\n",
       "*/\n",
       "\n",
       "/* Pipeline and ColumnTransformer style (default) */\n",
       "\n",
       "#sk-container-id-54 div.sk-toggleable {\n",
       "  /* Default theme specific background. It is overwritten whether we have a\n",
       "  specific estimator or a Pipeline/ColumnTransformer */\n",
       "  background-color: var(--sklearn-color-background);\n",
       "}\n",
       "\n",
       "/* Toggleable label */\n",
       "#sk-container-id-54 label.sk-toggleable__label {\n",
       "  cursor: pointer;\n",
       "  display: block;\n",
       "  width: 100%;\n",
       "  margin-bottom: 0;\n",
       "  padding: 0.5em;\n",
       "  box-sizing: border-box;\n",
       "  text-align: center;\n",
       "}\n",
       "\n",
       "#sk-container-id-54 label.sk-toggleable__label-arrow:before {\n",
       "  /* Arrow on the left of the label */\n",
       "  content: \"▸\";\n",
       "  float: left;\n",
       "  margin-right: 0.25em;\n",
       "  color: var(--sklearn-color-icon);\n",
       "}\n",
       "\n",
       "#sk-container-id-54 label.sk-toggleable__label-arrow:hover:before {\n",
       "  color: var(--sklearn-color-text);\n",
       "}\n",
       "\n",
       "/* Toggleable content - dropdown */\n",
       "\n",
       "#sk-container-id-54 div.sk-toggleable__content {\n",
       "  max-height: 0;\n",
       "  max-width: 0;\n",
       "  overflow: hidden;\n",
       "  text-align: left;\n",
       "  /* unfitted */\n",
       "  background-color: var(--sklearn-color-unfitted-level-0);\n",
       "}\n",
       "\n",
       "#sk-container-id-54 div.sk-toggleable__content.fitted {\n",
       "  /* fitted */\n",
       "  background-color: var(--sklearn-color-fitted-level-0);\n",
       "}\n",
       "\n",
       "#sk-container-id-54 div.sk-toggleable__content pre {\n",
       "  margin: 0.2em;\n",
       "  border-radius: 0.25em;\n",
       "  color: var(--sklearn-color-text);\n",
       "  /* unfitted */\n",
       "  background-color: var(--sklearn-color-unfitted-level-0);\n",
       "}\n",
       "\n",
       "#sk-container-id-54 div.sk-toggleable__content.fitted pre {\n",
       "  /* unfitted */\n",
       "  background-color: var(--sklearn-color-fitted-level-0);\n",
       "}\n",
       "\n",
       "#sk-container-id-54 input.sk-toggleable__control:checked~div.sk-toggleable__content {\n",
       "  /* Expand drop-down */\n",
       "  max-height: 200px;\n",
       "  max-width: 100%;\n",
       "  overflow: auto;\n",
       "}\n",
       "\n",
       "#sk-container-id-54 input.sk-toggleable__control:checked~label.sk-toggleable__label-arrow:before {\n",
       "  content: \"▾\";\n",
       "}\n",
       "\n",
       "/* Pipeline/ColumnTransformer-specific style */\n",
       "\n",
       "#sk-container-id-54 div.sk-label input.sk-toggleable__control:checked~label.sk-toggleable__label {\n",
       "  color: var(--sklearn-color-text);\n",
       "  background-color: var(--sklearn-color-unfitted-level-2);\n",
       "}\n",
       "\n",
       "#sk-container-id-54 div.sk-label.fitted input.sk-toggleable__control:checked~label.sk-toggleable__label {\n",
       "  background-color: var(--sklearn-color-fitted-level-2);\n",
       "}\n",
       "\n",
       "/* Estimator-specific style */\n",
       "\n",
       "/* Colorize estimator box */\n",
       "#sk-container-id-54 div.sk-estimator input.sk-toggleable__control:checked~label.sk-toggleable__label {\n",
       "  /* unfitted */\n",
       "  background-color: var(--sklearn-color-unfitted-level-2);\n",
       "}\n",
       "\n",
       "#sk-container-id-54 div.sk-estimator.fitted input.sk-toggleable__control:checked~label.sk-toggleable__label {\n",
       "  /* fitted */\n",
       "  background-color: var(--sklearn-color-fitted-level-2);\n",
       "}\n",
       "\n",
       "#sk-container-id-54 div.sk-label label.sk-toggleable__label,\n",
       "#sk-container-id-54 div.sk-label label {\n",
       "  /* The background is the default theme color */\n",
       "  color: var(--sklearn-color-text-on-default-background);\n",
       "}\n",
       "\n",
       "/* On hover, darken the color of the background */\n",
       "#sk-container-id-54 div.sk-label:hover label.sk-toggleable__label {\n",
       "  color: var(--sklearn-color-text);\n",
       "  background-color: var(--sklearn-color-unfitted-level-2);\n",
       "}\n",
       "\n",
       "/* Label box, darken color on hover, fitted */\n",
       "#sk-container-id-54 div.sk-label.fitted:hover label.sk-toggleable__label.fitted {\n",
       "  color: var(--sklearn-color-text);\n",
       "  background-color: var(--sklearn-color-fitted-level-2);\n",
       "}\n",
       "\n",
       "/* Estimator label */\n",
       "\n",
       "#sk-container-id-54 div.sk-label label {\n",
       "  font-family: monospace;\n",
       "  font-weight: bold;\n",
       "  display: inline-block;\n",
       "  line-height: 1.2em;\n",
       "}\n",
       "\n",
       "#sk-container-id-54 div.sk-label-container {\n",
       "  text-align: center;\n",
       "}\n",
       "\n",
       "/* Estimator-specific */\n",
       "#sk-container-id-54 div.sk-estimator {\n",
       "  font-family: monospace;\n",
       "  border: 1px dotted var(--sklearn-color-border-box);\n",
       "  border-radius: 0.25em;\n",
       "  box-sizing: border-box;\n",
       "  margin-bottom: 0.5em;\n",
       "  /* unfitted */\n",
       "  background-color: var(--sklearn-color-unfitted-level-0);\n",
       "}\n",
       "\n",
       "#sk-container-id-54 div.sk-estimator.fitted {\n",
       "  /* fitted */\n",
       "  background-color: var(--sklearn-color-fitted-level-0);\n",
       "}\n",
       "\n",
       "/* on hover */\n",
       "#sk-container-id-54 div.sk-estimator:hover {\n",
       "  /* unfitted */\n",
       "  background-color: var(--sklearn-color-unfitted-level-2);\n",
       "}\n",
       "\n",
       "#sk-container-id-54 div.sk-estimator.fitted:hover {\n",
       "  /* fitted */\n",
       "  background-color: var(--sklearn-color-fitted-level-2);\n",
       "}\n",
       "\n",
       "/* Specification for estimator info (e.g. \"i\" and \"?\") */\n",
       "\n",
       "/* Common style for \"i\" and \"?\" */\n",
       "\n",
       ".sk-estimator-doc-link,\n",
       "a:link.sk-estimator-doc-link,\n",
       "a:visited.sk-estimator-doc-link {\n",
       "  float: right;\n",
       "  font-size: smaller;\n",
       "  line-height: 1em;\n",
       "  font-family: monospace;\n",
       "  background-color: var(--sklearn-color-background);\n",
       "  border-radius: 1em;\n",
       "  height: 1em;\n",
       "  width: 1em;\n",
       "  text-decoration: none !important;\n",
       "  margin-left: 1ex;\n",
       "  /* unfitted */\n",
       "  border: var(--sklearn-color-unfitted-level-1) 1pt solid;\n",
       "  color: var(--sklearn-color-unfitted-level-1);\n",
       "}\n",
       "\n",
       ".sk-estimator-doc-link.fitted,\n",
       "a:link.sk-estimator-doc-link.fitted,\n",
       "a:visited.sk-estimator-doc-link.fitted {\n",
       "  /* fitted */\n",
       "  border: var(--sklearn-color-fitted-level-1) 1pt solid;\n",
       "  color: var(--sklearn-color-fitted-level-1);\n",
       "}\n",
       "\n",
       "/* On hover */\n",
       "div.sk-estimator:hover .sk-estimator-doc-link:hover,\n",
       ".sk-estimator-doc-link:hover,\n",
       "div.sk-label-container:hover .sk-estimator-doc-link:hover,\n",
       ".sk-estimator-doc-link:hover {\n",
       "  /* unfitted */\n",
       "  background-color: var(--sklearn-color-unfitted-level-3);\n",
       "  color: var(--sklearn-color-background);\n",
       "  text-decoration: none;\n",
       "}\n",
       "\n",
       "div.sk-estimator.fitted:hover .sk-estimator-doc-link.fitted:hover,\n",
       ".sk-estimator-doc-link.fitted:hover,\n",
       "div.sk-label-container:hover .sk-estimator-doc-link.fitted:hover,\n",
       ".sk-estimator-doc-link.fitted:hover {\n",
       "  /* fitted */\n",
       "  background-color: var(--sklearn-color-fitted-level-3);\n",
       "  color: var(--sklearn-color-background);\n",
       "  text-decoration: none;\n",
       "}\n",
       "\n",
       "/* Span, style for the box shown on hovering the info icon */\n",
       ".sk-estimator-doc-link span {\n",
       "  display: none;\n",
       "  z-index: 9999;\n",
       "  position: relative;\n",
       "  font-weight: normal;\n",
       "  right: .2ex;\n",
       "  padding: .5ex;\n",
       "  margin: .5ex;\n",
       "  width: min-content;\n",
       "  min-width: 20ex;\n",
       "  max-width: 50ex;\n",
       "  color: var(--sklearn-color-text);\n",
       "  box-shadow: 2pt 2pt 4pt #999;\n",
       "  /* unfitted */\n",
       "  background: var(--sklearn-color-unfitted-level-0);\n",
       "  border: .5pt solid var(--sklearn-color-unfitted-level-3);\n",
       "}\n",
       "\n",
       ".sk-estimator-doc-link.fitted span {\n",
       "  /* fitted */\n",
       "  background: var(--sklearn-color-fitted-level-0);\n",
       "  border: var(--sklearn-color-fitted-level-3);\n",
       "}\n",
       "\n",
       ".sk-estimator-doc-link:hover span {\n",
       "  display: block;\n",
       "}\n",
       "\n",
       "/* \"?\"-specific style due to the `<a>` HTML tag */\n",
       "\n",
       "#sk-container-id-54 a.estimator_doc_link {\n",
       "  float: right;\n",
       "  font-size: 1rem;\n",
       "  line-height: 1em;\n",
       "  font-family: monospace;\n",
       "  background-color: var(--sklearn-color-background);\n",
       "  border-radius: 1rem;\n",
       "  height: 1rem;\n",
       "  width: 1rem;\n",
       "  text-decoration: none;\n",
       "  /* unfitted */\n",
       "  color: var(--sklearn-color-unfitted-level-1);\n",
       "  border: var(--sklearn-color-unfitted-level-1) 1pt solid;\n",
       "}\n",
       "\n",
       "#sk-container-id-54 a.estimator_doc_link.fitted {\n",
       "  /* fitted */\n",
       "  border: var(--sklearn-color-fitted-level-1) 1pt solid;\n",
       "  color: var(--sklearn-color-fitted-level-1);\n",
       "}\n",
       "\n",
       "/* On hover */\n",
       "#sk-container-id-54 a.estimator_doc_link:hover {\n",
       "  /* unfitted */\n",
       "  background-color: var(--sklearn-color-unfitted-level-3);\n",
       "  color: var(--sklearn-color-background);\n",
       "  text-decoration: none;\n",
       "}\n",
       "\n",
       "#sk-container-id-54 a.estimator_doc_link.fitted:hover {\n",
       "  /* fitted */\n",
       "  background-color: var(--sklearn-color-fitted-level-3);\n",
       "}\n",
       "</style><div id=\"sk-container-id-54\" class=\"sk-top-container\"><div class=\"sk-text-repr-fallback\"><pre>DecisionTreeRegressor(max_depth=10)</pre><b>In a Jupyter environment, please rerun this cell to show the HTML representation or trust the notebook. <br />On GitHub, the HTML representation is unable to render, please try loading this page with nbviewer.org.</b></div><div class=\"sk-container\" hidden><div class=\"sk-item\"><div class=\"sk-estimator fitted sk-toggleable\"><input class=\"sk-toggleable__control sk-hidden--visually\" id=\"sk-estimator-id-54\" type=\"checkbox\" checked><label for=\"sk-estimator-id-54\" class=\"sk-toggleable__label fitted sk-toggleable__label-arrow fitted\">&nbsp;&nbsp;DecisionTreeRegressor<a class=\"sk-estimator-doc-link fitted\" rel=\"noreferrer\" target=\"_blank\" href=\"https://scikit-learn.org/1.5/modules/generated/sklearn.tree.DecisionTreeRegressor.html\">?<span>Documentation for DecisionTreeRegressor</span></a><span class=\"sk-estimator-doc-link fitted\">i<span>Fitted</span></span></label><div class=\"sk-toggleable__content fitted\"><pre>DecisionTreeRegressor(max_depth=10)</pre></div> </div></div></div></div>"
      ]
     },
     "execution_count": 882,
     "metadata": {},
     "output_type": "execute_result"
    }
   ],
   "execution_count": 882
  },
  {
   "cell_type": "code",
   "id": "1a4e65a1f2a60852",
   "metadata": {
    "ExecuteTime": {
     "end_time": "2024-10-14T20:36:16.712527Z",
     "start_time": "2024-10-14T20:36:16.665756Z"
    }
   },
   "source": [
    "y_train_pred = dt.predict(X_train)\n",
    "print(r2_score(y_train, y_train_pred))\n",
    "y_test_pred = dt.predict(X_test)\n",
    "print(r2_score(y_test, y_test_pred))"
   ],
   "outputs": [
    {
     "name": "stdout",
     "output_type": "stream",
     "text": [
      "0.004898586865713206\n",
      "0.000531327867751008\n"
     ]
    }
   ],
   "execution_count": 883
  },
  {
   "cell_type": "code",
   "id": "a0f98860307a679a",
   "metadata": {
    "ExecuteTime": {
     "end_time": "2024-10-14T20:36:16.759692Z",
     "start_time": "2024-10-14T20:36:16.744639Z"
    }
   },
   "source": [
    "y_train_pred"
   ],
   "outputs": [
    {
     "data": {
      "text/plain": [
       "array([5.12046901, 4.98621948, 5.03610625, ..., 5.1184418 , 5.0950171 ,\n",
       "       5.1471174 ])"
      ]
     },
     "execution_count": 884,
     "metadata": {},
     "output_type": "execute_result"
    }
   ],
   "execution_count": 884
  },
  {
   "cell_type": "code",
   "id": "68a2e1eeb61e31f4",
   "metadata": {
    "ExecuteTime": {
     "end_time": "2024-10-14T20:36:16.807859Z",
     "start_time": "2024-10-14T20:36:16.792807Z"
    }
   },
   "source": [
    "y_test_pred"
   ],
   "outputs": [
    {
     "data": {
      "text/plain": [
       "array([5.11379906, 5.03610625, 5.09760783, ..., 5.03610625, 5.1471174 ,\n",
       "       5.1184418 ])"
      ]
     },
     "execution_count": 885,
     "metadata": {},
     "output_type": "execute_result"
    }
   ],
   "execution_count": 885
  },
  {
   "cell_type": "code",
   "id": "dbc8de7bce2f8ec0",
   "metadata": {
    "ExecuteTime": {
     "end_time": "2024-10-14T20:36:16.856027Z",
     "start_time": "2024-10-14T20:36:16.840974Z"
    }
   },
   "source": [
    "training_r2 = []\n",
    "testing_r2 = []"
   ],
   "outputs": [],
   "execution_count": 886
  },
  {
   "cell_type": "code",
   "id": "58498b9d96b05308",
   "metadata": {
    "ExecuteTime": {
     "end_time": "2024-10-14T20:36:20.016396Z",
     "start_time": "2024-10-14T20:36:16.889142Z"
    }
   },
   "source": [
    "for depth in range(1, 5):\n",
    "    dtr = DecisionTreeRegressor( max_depth = depth )\n",
    "    dtr.fit(X_train, y_train)\n",
    "    \n",
    "    y_train_pred = dtr.predict(X_train)\n",
    "    \n",
    "    # Training R2 Score\n",
    "    training_r2.append(r2_score(y_train, y_train_pred))\n",
    "\n",
    "    y_test_pred = dtr.predict(X_test)\n",
    "\n",
    "    # Testing R2 Score\n",
    "    testing_r2.append(r2_score(y_test, y_test_pred))    \n",
    "    "
   ],
   "outputs": [],
   "execution_count": 887
  },
  {
   "cell_type": "code",
   "id": "c0eefa685791c0dc",
   "metadata": {
    "ExecuteTime": {
     "end_time": "2024-10-14T20:36:20.112683Z",
     "start_time": "2024-10-14T20:36:20.049511Z"
    }
   },
   "source": [
    "plt.plot(training_r2, label=\"Training\")\n",
    "plt.plot(testing_r2, label = \"Testing\")\n",
    "plt.xlabel('Max Depth')\n",
    "plt.ylabel('R2 Score')\n",
    "plt.legend(loc = 'upper left')\n",
    "plt.show()"
   ],
   "outputs": [
    {
     "data": {
      "text/plain": [
       "<Figure size 600x400 with 1 Axes>"
      ],
      "image/png": "[encoded data removed]"
     },
     "metadata": {},
     "output_type": "display_data"
    }
   ],
   "execution_count": 888
  },
  {
   "cell_type": "markdown",
   "id": "f08dff5c17481ac7",
   "metadata": {},
   "source": [
    "## XGBoost Regressor "
   ]
  },
  {
   "cell_type": "code",
   "id": "e5c291bf5a6e766a",
   "metadata": {
    "ExecuteTime": {
     "end_time": "2024-10-14T20:36:21.125231Z",
     "start_time": "2024-10-14T20:36:20.145798Z"
    }
   },
   "source": "df = pd.read_csv('weather_data_excel.csv')",
   "outputs": [],
   "execution_count": 889
  },
  {
   "cell_type": "code",
   "id": "e5ac86ec50955b0e",
   "metadata": {
    "ExecuteTime": {
     "end_time": "2024-10-14T20:36:21.218859Z",
     "start_time": "2024-10-14T20:36:21.156478Z"
    }
   },
   "source": "df['Date'] = pd.to_datetime(df['Date'])",
   "outputs": [],
   "execution_count": 890
  },
  {
   "metadata": {
    "ExecuteTime": {
     "end_time": "2024-10-14T20:36:21.327005Z",
     "start_time": "2024-10-14T20:36:21.250668Z"
    }
   },
   "cell_type": "code",
   "source": [
    "df['Month'] = df['Date'].dt.month\n",
    "df['Day'] = df['Date'].dt.day\n",
    "df['Year'] = df['Date'].dt.year"
   ],
   "id": "49334bf85868dcb3",
   "outputs": [],
   "execution_count": 891
  },
  {
   "metadata": {
    "ExecuteTime": {
     "end_time": "2024-10-14T20:36:21.452257Z",
     "start_time": "2024-10-14T20:36:21.359053Z"
    }
   },
   "cell_type": "code",
   "source": [
    "location_encoder = LabelEncoder()\n",
    "df['Location_encoded'] = location_encoder.fit_transform(df['Location'])"
   ],
   "id": "3afb1b4032e5dba",
   "outputs": [],
   "execution_count": 892
  },
  {
   "cell_type": "code",
   "id": "10cdd4d7f4024540",
   "metadata": {
    "ExecuteTime": {
     "end_time": "2024-10-14T20:36:21.498068Z",
     "start_time": "2024-10-14T20:36:21.483648Z"
    }
   },
   "source": [
    "# Establish X and y\n",
    "y = df['Precipitation_mm']\n",
    "X = df.drop(columns=['Precipitation_mm','Military_Time','Rain_Category', 'Location', 'Date', 'Precipitation_in', 'Temperature_C', 'Rain_Cat_Num', 'Date_Time'])"
   ],
   "outputs": [],
   "execution_count": 893
  },
  {
   "cell_type": "code",
   "id": "86eaf0bdf4a2b2f6",
   "metadata": {
    "ExecuteTime": {
     "end_time": "2024-10-14T20:36:21.544701Z",
     "start_time": "2024-10-14T20:36:21.530472Z"
    }
   },
   "source": [
    "# Check if the correct columns for X have been added\n",
    "X.columns"
   ],
   "outputs": [
    {
     "data": {
      "text/plain": [
       "Index(['Humidity_pct', 'Wind_Speed_kmh', 'Temperature_F', 'Month', 'Day',\n",
       "       'Year', 'Location_encoded'],\n",
       "      dtype='object')"
      ]
     },
     "execution_count": 894,
     "metadata": {},
     "output_type": "execute_result"
    }
   ],
   "execution_count": 894
  },
  {
   "cell_type": "code",
   "id": "6a70842c37394daa",
   "metadata": {
    "ExecuteTime": {
     "end_time": "2024-10-14T20:36:21.671167Z",
     "start_time": "2024-10-14T20:36:21.592988Z"
    }
   },
   "source": [
    "# Prepare Data\n",
    "X_train, X_test, y_train, y_test = train_test_split(X, y, test_size = 0.2, random_state = 4700)"
   ],
   "outputs": [],
   "execution_count": 895
  },
  {
   "cell_type": "code",
   "id": "8ea2b5f1ad6dae8d",
   "metadata": {
    "ExecuteTime": {
     "end_time": "2024-10-14T20:36:21.717161Z",
     "start_time": "2024-10-14T20:36:21.702848Z"
    }
   },
   "source": [
    "# Create XGBoost Regression Model\n",
    "\n",
    "xgb_r = xgboost.XGBRegressor(objective='reg:squarederror', enable_categorical=True, n_estimators = 10 )"
   ],
   "outputs": [],
   "execution_count": 896
  },
  {
   "cell_type": "code",
   "id": "9f57d6556d667ea6",
   "metadata": {
    "ExecuteTime": {
     "end_time": "2024-10-14T20:36:21.965898Z",
     "start_time": "2024-10-14T20:36:21.763676Z"
    }
   },
   "source": [
    "# Fit the model\n",
    "xgb_r.fit(X_train, y_train)"
   ],
   "outputs": [
    {
     "data": {
      "text/plain": [
       "XGBRegressor(base_score=None, booster=None, callbacks=None,\n",
       "             colsample_bylevel=None, colsample_bynode=None,\n",
       "             colsample_bytree=None, device=None, early_stopping_rounds=None,\n",
       "             enable_categorical=True, eval_metric=None, feature_types=None,\n",
       "             gamma=None, grow_policy=None, importance_type=None,\n",
       "             interaction_constraints=None, learning_rate=None, max_bin=None,\n",
       "             max_cat_threshold=None, max_cat_to_onehot=None,\n",
       "             max_delta_step=None, max_depth=None, max_leaves=None,\n",
       "             min_child_weight=None, missing=nan, monotone_constraints=None,\n",
       "             multi_strategy=None, n_estimators=10, n_jobs=None,\n",
       "             num_parallel_tree=None, random_state=None, ...)"
      ],
      "text/html": [
       "<style>#sk-container-id-55 {\n",
       "  /* Definition of color scheme common for light and dark mode */\n",
       "  --sklearn-color-text: black;\n",
       "  --sklearn-color-line: gray;\n",
       "  /* Definition of color scheme for unfitted estimators */\n",
       "  --sklearn-color-unfitted-level-0: #fff5e6;\n",
       "  --sklearn-color-unfitted-level-1: #f6e4d2;\n",
       "  --sklearn-color-unfitted-level-2: #ffe0b3;\n",
       "  --sklearn-color-unfitted-level-3: chocolate;\n",
       "  /* Definition of color scheme for fitted estimators */\n",
       "  --sklearn-color-fitted-level-0: #f0f8ff;\n",
       "  --sklearn-color-fitted-level-1: #d4ebff;\n",
       "  --sklearn-color-fitted-level-2: #b3dbfd;\n",
       "  --sklearn-color-fitted-level-3: cornflowerblue;\n",
       "\n",
       "  /* Specific color for light theme */\n",
       "  --sklearn-color-text-on-default-background: var(--sg-text-color, var(--theme-code-foreground, var(--jp-content-font-color1, black)));\n",
       "  --sklearn-color-background: var(--sg-background-color, var(--theme-background, var(--jp-layout-color0, white)));\n",
       "  --sklearn-color-border-box: var(--sg-text-color, var(--theme-code-foreground, var(--jp-content-font-color1, black)));\n",
       "  --sklearn-color-icon: #696969;\n",
       "\n",
       "  @media (prefers-color-scheme: dark) {\n",
       "    /* Redefinition of color scheme for dark theme */\n",
       "    --sklearn-color-text-on-default-background: var(--sg-text-color, var(--theme-code-foreground, var(--jp-content-font-color1, white)));\n",
       "    --sklearn-color-background: var(--sg-background-color, var(--theme-background, var(--jp-layout-color0, #111)));\n",
       "    --sklearn-color-border-box: var(--sg-text-color, var(--theme-code-foreground, var(--jp-content-font-color1, white)));\n",
       "    --sklearn-color-icon: #878787;\n",
       "  }\n",
       "}\n",
       "\n",
       "#sk-container-id-55 {\n",
       "  color: var(--sklearn-color-text);\n",
       "}\n",
       "\n",
       "#sk-container-id-55 pre {\n",
       "  padding: 0;\n",
       "}\n",
       "\n",
       "#sk-container-id-55 input.sk-hidden--visually {\n",
       "  border: 0;\n",
       "  clip: rect(1px 1px 1px 1px);\n",
       "  clip: rect(1px, 1px, 1px, 1px);\n",
       "  height: 1px;\n",
       "  margin: -1px;\n",
       "  overflow: hidden;\n",
       "  padding: 0;\n",
       "  position: absolute;\n",
       "  width: 1px;\n",
       "}\n",
       "\n",
       "#sk-container-id-55 div.sk-dashed-wrapped {\n",
       "  border: 1px dashed var(--sklearn-color-line);\n",
       "  margin: 0 0.4em 0.5em 0.4em;\n",
       "  box-sizing: border-box;\n",
       "  padding-bottom: 0.4em;\n",
       "  background-color: var(--sklearn-color-background);\n",
       "}\n",
       "\n",
       "#sk-container-id-55 div.sk-container {\n",
       "  /* jupyter's `normalize.less` sets `[hidden] { display: none; }`\n",
       "     but bootstrap.min.css set `[hidden] { display: none !important; }`\n",
       "     so we also need the `!important` here to be able to override the\n",
       "     default hidden behavior on the sphinx rendered scikit-learn.org.\n",
       "     See: https://github.com/scikit-learn/scikit-learn/issues/21755 */\n",
       "  display: inline-block !important;\n",
       "  position: relative;\n",
       "}\n",
       "\n",
       "#sk-container-id-55 div.sk-text-repr-fallback {\n",
       "  display: none;\n",
       "}\n",
       "\n",
       "div.sk-parallel-item,\n",
       "div.sk-serial,\n",
       "div.sk-item {\n",
       "  /* draw centered vertical line to link estimators */\n",
       "  background-image: linear-gradient(var(--sklearn-color-text-on-default-background), var(--sklearn-color-text-on-default-background));\n",
       "  background-size: 2px 100%;\n",
       "  background-repeat: no-repeat;\n",
       "  background-position: center center;\n",
       "}\n",
       "\n",
       "/* Parallel-specific style estimator block */\n",
       "\n",
       "#sk-container-id-55 div.sk-parallel-item::after {\n",
       "  content: \"\";\n",
       "  width: 100%;\n",
       "  border-bottom: 2px solid var(--sklearn-color-text-on-default-background);\n",
       "  flex-grow: 1;\n",
       "}\n",
       "\n",
       "#sk-container-id-55 div.sk-parallel {\n",
       "  display: flex;\n",
       "  align-items: stretch;\n",
       "  justify-content: center;\n",
       "  background-color: var(--sklearn-color-background);\n",
       "  position: relative;\n",
       "}\n",
       "\n",
       "#sk-container-id-55 div.sk-parallel-item {\n",
       "  display: flex;\n",
       "  flex-direction: column;\n",
       "}\n",
       "\n",
       "#sk-container-id-55 div.sk-parallel-item:first-child::after {\n",
       "  align-self: flex-end;\n",
       "  width: 50%;\n",
       "}\n",
       "\n",
       "#sk-container-id-55 div.sk-parallel-item:last-child::after {\n",
       "  align-self: flex-start;\n",
       "  width: 50%;\n",
       "}\n",
       "\n",
       "#sk-container-id-55 div.sk-parallel-item:only-child::after {\n",
       "  width: 0;\n",
       "}\n",
       "\n",
       "/* Serial-specific style estimator block */\n",
       "\n",
       "#sk-container-id-55 div.sk-serial {\n",
       "  display: flex;\n",
       "  flex-direction: column;\n",
       "  align-items: center;\n",
       "  background-color: var(--sklearn-color-background);\n",
       "  padding-right: 1em;\n",
       "  padding-left: 1em;\n",
       "}\n",
       "\n",
       "\n",
       "/* Toggleable style: style used for estimator/Pipeline/ColumnTransformer box that is\n",
       "clickable and can be expanded/collapsed.\n",
       "- Pipeline and ColumnTransformer use this feature and define the default style\n",
       "- Estimators will overwrite some part of the style using the `sk-estimator` class\n",
       "*/\n",
       "\n",
       "/* Pipeline and ColumnTransformer style (default) */\n",
       "\n",
       "#sk-container-id-55 div.sk-toggleable {\n",
       "  /* Default theme specific background. It is overwritten whether we have a\n",
       "  specific estimator or a Pipeline/ColumnTransformer */\n",
       "  background-color: var(--sklearn-color-background);\n",
       "}\n",
       "\n",
       "/* Toggleable label */\n",
       "#sk-container-id-55 label.sk-toggleable__label {\n",
       "  cursor: pointer;\n",
       "  display: block;\n",
       "  width: 100%;\n",
       "  margin-bottom: 0;\n",
       "  padding: 0.5em;\n",
       "  box-sizing: border-box;\n",
       "  text-align: center;\n",
       "}\n",
       "\n",
       "#sk-container-id-55 label.sk-toggleable__label-arrow:before {\n",
       "  /* Arrow on the left of the label */\n",
       "  content: \"▸\";\n",
       "  float: left;\n",
       "  margin-right: 0.25em;\n",
       "  color: var(--sklearn-color-icon);\n",
       "}\n",
       "\n",
       "#sk-container-id-55 label.sk-toggleable__label-arrow:hover:before {\n",
       "  color: var(--sklearn-color-text);\n",
       "}\n",
       "\n",
       "/* Toggleable content - dropdown */\n",
       "\n",
       "#sk-container-id-55 div.sk-toggleable__content {\n",
       "  max-height: 0;\n",
       "  max-width: 0;\n",
       "  overflow: hidden;\n",
       "  text-align: left;\n",
       "  /* unfitted */\n",
       "  background-color: var(--sklearn-color-unfitted-level-0);\n",
       "}\n",
       "\n",
       "#sk-container-id-55 div.sk-toggleable__content.fitted {\n",
       "  /* fitted */\n",
       "  background-color: var(--sklearn-color-fitted-level-0);\n",
       "}\n",
       "\n",
       "#sk-container-id-55 div.sk-toggleable__content pre {\n",
       "  margin: 0.2em;\n",
       "  border-radius: 0.25em;\n",
       "  color: var(--sklearn-color-text);\n",
       "  /* unfitted */\n",
       "  background-color: var(--sklearn-color-unfitted-level-0);\n",
       "}\n",
       "\n",
       "#sk-container-id-55 div.sk-toggleable__content.fitted pre {\n",
       "  /* unfitted */\n",
       "  background-color: var(--sklearn-color-fitted-level-0);\n",
       "}\n",
       "\n",
       "#sk-container-id-55 input.sk-toggleable__control:checked~div.sk-toggleable__content {\n",
       "  /* Expand drop-down */\n",
       "  max-height: 200px;\n",
       "  max-width: 100%;\n",
       "  overflow: auto;\n",
       "}\n",
       "\n",
       "#sk-container-id-55 input.sk-toggleable__control:checked~label.sk-toggleable__label-arrow:before {\n",
       "  content: \"▾\";\n",
       "}\n",
       "\n",
       "/* Pipeline/ColumnTransformer-specific style */\n",
       "\n",
       "#sk-container-id-55 div.sk-label input.sk-toggleable__control:checked~label.sk-toggleable__label {\n",
       "  color: var(--sklearn-color-text);\n",
       "  background-color: var(--sklearn-color-unfitted-level-2);\n",
       "}\n",
       "\n",
       "#sk-container-id-55 div.sk-label.fitted input.sk-toggleable__control:checked~label.sk-toggleable__label {\n",
       "  background-color: var(--sklearn-color-fitted-level-2);\n",
       "}\n",
       "\n",
       "/* Estimator-specific style */\n",
       "\n",
       "/* Colorize estimator box */\n",
       "#sk-container-id-55 div.sk-estimator input.sk-toggleable__control:checked~label.sk-toggleable__label {\n",
       "  /* unfitted */\n",
       "  background-color: var(--sklearn-color-unfitted-level-2);\n",
       "}\n",
       "\n",
       "#sk-container-id-55 div.sk-estimator.fitted input.sk-toggleable__control:checked~label.sk-toggleable__label {\n",
       "  /* fitted */\n",
       "  background-color: var(--sklearn-color-fitted-level-2);\n",
       "}\n",
       "\n",
       "#sk-container-id-55 div.sk-label label.sk-toggleable__label,\n",
       "#sk-container-id-55 div.sk-label label {\n",
       "  /* The background is the default theme color */\n",
       "  color: var(--sklearn-color-text-on-default-background);\n",
       "}\n",
       "\n",
       "/* On hover, darken the color of the background */\n",
       "#sk-container-id-55 div.sk-label:hover label.sk-toggleable__label {\n",
       "  color: var(--sklearn-color-text);\n",
       "  background-color: var(--sklearn-color-unfitted-level-2);\n",
       "}\n",
       "\n",
       "/* Label box, darken color on hover, fitted */\n",
       "#sk-container-id-55 div.sk-label.fitted:hover label.sk-toggleable__label.fitted {\n",
       "  color: var(--sklearn-color-text);\n",
       "  background-color: var(--sklearn-color-fitted-level-2);\n",
       "}\n",
       "\n",
       "/* Estimator label */\n",
       "\n",
       "#sk-container-id-55 div.sk-label label {\n",
       "  font-family: monospace;\n",
       "  font-weight: bold;\n",
       "  display: inline-block;\n",
       "  line-height: 1.2em;\n",
       "}\n",
       "\n",
       "#sk-container-id-55 div.sk-label-container {\n",
       "  text-align: center;\n",
       "}\n",
       "\n",
       "/* Estimator-specific */\n",
       "#sk-container-id-55 div.sk-estimator {\n",
       "  font-family: monospace;\n",
       "  border: 1px dotted var(--sklearn-color-border-box);\n",
       "  border-radius: 0.25em;\n",
       "  box-sizing: border-box;\n",
       "  margin-bottom: 0.5em;\n",
       "  /* unfitted */\n",
       "  background-color: var(--sklearn-color-unfitted-level-0);\n",
       "}\n",
       "\n",
       "#sk-container-id-55 div.sk-estimator.fitted {\n",
       "  /* fitted */\n",
       "  background-color: var(--sklearn-color-fitted-level-0);\n",
       "}\n",
       "\n",
       "/* on hover */\n",
       "#sk-container-id-55 div.sk-estimator:hover {\n",
       "  /* unfitted */\n",
       "  background-color: var(--sklearn-color-unfitted-level-2);\n",
       "}\n",
       "\n",
       "#sk-container-id-55 div.sk-estimator.fitted:hover {\n",
       "  /* fitted */\n",
       "  background-color: var(--sklearn-color-fitted-level-2);\n",
       "}\n",
       "\n",
       "/* Specification for estimator info (e.g. \"i\" and \"?\") */\n",
       "\n",
       "/* Common style for \"i\" and \"?\" */\n",
       "\n",
       ".sk-estimator-doc-link,\n",
       "a:link.sk-estimator-doc-link,\n",
       "a:visited.sk-estimator-doc-link {\n",
       "  float: right;\n",
       "  font-size: smaller;\n",
       "  line-height: 1em;\n",
       "  font-family: monospace;\n",
       "  background-color: var(--sklearn-color-background);\n",
       "  border-radius: 1em;\n",
       "  height: 1em;\n",
       "  width: 1em;\n",
       "  text-decoration: none !important;\n",
       "  margin-left: 1ex;\n",
       "  /* unfitted */\n",
       "  border: var(--sklearn-color-unfitted-level-1) 1pt solid;\n",
       "  color: var(--sklearn-color-unfitted-level-1);\n",
       "}\n",
       "\n",
       ".sk-estimator-doc-link.fitted,\n",
       "a:link.sk-estimator-doc-link.fitted,\n",
       "a:visited.sk-estimator-doc-link.fitted {\n",
       "  /* fitted */\n",
       "  border: var(--sklearn-color-fitted-level-1) 1pt solid;\n",
       "  color: var(--sklearn-color-fitted-level-1);\n",
       "}\n",
       "\n",
       "/* On hover */\n",
       "div.sk-estimator:hover .sk-estimator-doc-link:hover,\n",
       ".sk-estimator-doc-link:hover,\n",
       "div.sk-label-container:hover .sk-estimator-doc-link:hover,\n",
       ".sk-estimator-doc-link:hover {\n",
       "  /* unfitted */\n",
       "  background-color: var(--sklearn-color-unfitted-level-3);\n",
       "  color: var(--sklearn-color-background);\n",
       "  text-decoration: none;\n",
       "}\n",
       "\n",
       "div.sk-estimator.fitted:hover .sk-estimator-doc-link.fitted:hover,\n",
       ".sk-estimator-doc-link.fitted:hover,\n",
       "div.sk-label-container:hover .sk-estimator-doc-link.fitted:hover,\n",
       ".sk-estimator-doc-link.fitted:hover {\n",
       "  /* fitted */\n",
       "  background-color: var(--sklearn-color-fitted-level-3);\n",
       "  color: var(--sklearn-color-background);\n",
       "  text-decoration: none;\n",
       "}\n",
       "\n",
       "/* Span, style for the box shown on hovering the info icon */\n",
       ".sk-estimator-doc-link span {\n",
       "  display: none;\n",
       "  z-index: 9999;\n",
       "  position: relative;\n",
       "  font-weight: normal;\n",
       "  right: .2ex;\n",
       "  padding: .5ex;\n",
       "  margin: .5ex;\n",
       "  width: min-content;\n",
       "  min-width: 20ex;\n",
       "  max-width: 50ex;\n",
       "  color: var(--sklearn-color-text);\n",
       "  box-shadow: 2pt 2pt 4pt #999;\n",
       "  /* unfitted */\n",
       "  background: var(--sklearn-color-unfitted-level-0);\n",
       "  border: .5pt solid var(--sklearn-color-unfitted-level-3);\n",
       "}\n",
       "\n",
       ".sk-estimator-doc-link.fitted span {\n",
       "  /* fitted */\n",
       "  background: var(--sklearn-color-fitted-level-0);\n",
       "  border: var(--sklearn-color-fitted-level-3);\n",
       "}\n",
       "\n",
       ".sk-estimator-doc-link:hover span {\n",
       "  display: block;\n",
       "}\n",
       "\n",
       "/* \"?\"-specific style due to the `<a>` HTML tag */\n",
       "\n",
       "#sk-container-id-55 a.estimator_doc_link {\n",
       "  float: right;\n",
       "  font-size: 1rem;\n",
       "  line-height: 1em;\n",
       "  font-family: monospace;\n",
       "  background-color: var(--sklearn-color-background);\n",
       "  border-radius: 1rem;\n",
       "  height: 1rem;\n",
       "  width: 1rem;\n",
       "  text-decoration: none;\n",
       "  /* unfitted */\n",
       "  color: var(--sklearn-color-unfitted-level-1);\n",
       "  border: var(--sklearn-color-unfitted-level-1) 1pt solid;\n",
       "}\n",
       "\n",
       "#sk-container-id-55 a.estimator_doc_link.fitted {\n",
       "  /* fitted */\n",
       "  border: var(--sklearn-color-fitted-level-1) 1pt solid;\n",
       "  color: var(--sklearn-color-fitted-level-1);\n",
       "}\n",
       "\n",
       "/* On hover */\n",
       "#sk-container-id-55 a.estimator_doc_link:hover {\n",
       "  /* unfitted */\n",
       "  background-color: var(--sklearn-color-unfitted-level-3);\n",
       "  color: var(--sklearn-color-background);\n",
       "  text-decoration: none;\n",
       "}\n",
       "\n",
       "#sk-container-id-55 a.estimator_doc_link.fitted:hover {\n",
       "  /* fitted */\n",
       "  background-color: var(--sklearn-color-fitted-level-3);\n",
       "}\n",
       "</style><div id=\"sk-container-id-55\" class=\"sk-top-container\"><div class=\"sk-text-repr-fallback\"><pre>XGBRegressor(base_score=None, booster=None, callbacks=None,\n",
       "             colsample_bylevel=None, colsample_bynode=None,\n",
       "             colsample_bytree=None, device=None, early_stopping_rounds=None,\n",
       "             enable_categorical=True, eval_metric=None, feature_types=None,\n",
       "             gamma=None, grow_policy=None, importance_type=None,\n",
       "             interaction_constraints=None, learning_rate=None, max_bin=None,\n",
       "             max_cat_threshold=None, max_cat_to_onehot=None,\n",
       "             max_delta_step=None, max_depth=None, max_leaves=None,\n",
       "             min_child_weight=None, missing=nan, monotone_constraints=None,\n",
       "             multi_strategy=None, n_estimators=10, n_jobs=None,\n",
       "             num_parallel_tree=None, random_state=None, ...)</pre><b>In a Jupyter environment, please rerun this cell to show the HTML representation or trust the notebook. <br />On GitHub, the HTML representation is unable to render, please try loading this page with nbviewer.org.</b></div><div class=\"sk-container\" hidden><div class=\"sk-item\"><div class=\"sk-estimator fitted sk-toggleable\"><input class=\"sk-toggleable__control sk-hidden--visually\" id=\"sk-estimator-id-55\" type=\"checkbox\" checked><label for=\"sk-estimator-id-55\" class=\"sk-toggleable__label fitted sk-toggleable__label-arrow fitted\">&nbsp;XGBRegressor<span class=\"sk-estimator-doc-link fitted\">i<span>Fitted</span></span></label><div class=\"sk-toggleable__content fitted\"><pre>XGBRegressor(base_score=None, booster=None, callbacks=None,\n",
       "             colsample_bylevel=None, colsample_bynode=None,\n",
       "             colsample_bytree=None, device=None, early_stopping_rounds=None,\n",
       "             enable_categorical=True, eval_metric=None, feature_types=None,\n",
       "             gamma=None, grow_policy=None, importance_type=None,\n",
       "             interaction_constraints=None, learning_rate=None, max_bin=None,\n",
       "             max_cat_threshold=None, max_cat_to_onehot=None,\n",
       "             max_delta_step=None, max_depth=None, max_leaves=None,\n",
       "             min_child_weight=None, missing=nan, monotone_constraints=None,\n",
       "             multi_strategy=None, n_estimators=10, n_jobs=None,\n",
       "             num_parallel_tree=None, random_state=None, ...)</pre></div> </div></div></div></div>"
      ]
     },
     "execution_count": 897,
     "metadata": {},
     "output_type": "execute_result"
    }
   ],
   "execution_count": 897
  },
  {
   "cell_type": "code",
   "id": "42015ff86d21850f",
   "metadata": {
    "ExecuteTime": {
     "end_time": "2024-10-14T20:36:22.061230Z",
     "start_time": "2024-10-14T20:36:22.014066Z"
    }
   },
   "source": [
    "# Determine Training R2 Score\n",
    "prediction = xgb_r.predict(X_train)\n",
    "training_r2 = r2_score(y_train, prediction )\n",
    "training_r2"
   ],
   "outputs": [
    {
     "data": {
      "text/plain": [
       "0.031871178280234336"
      ]
     },
     "execution_count": 898,
     "metadata": {},
     "output_type": "execute_result"
    }
   ],
   "execution_count": 898
  },
  {
   "cell_type": "code",
   "id": "389c914a067562ac",
   "metadata": {
    "ExecuteTime": {
     "end_time": "2024-10-14T20:36:22.109398Z",
     "start_time": "2024-10-14T20:36:22.094345Z"
    }
   },
   "source": [
    "# Determine Testing R2 Score\n",
    "prediction = xgb_r.predict(X_test)\n",
    "testing_r2 = r2_score(y_test, prediction )\n",
    "testing_r2"
   ],
   "outputs": [
    {
     "data": {
      "text/plain": [
       "0.028456828603069195"
      ]
     },
     "execution_count": 899,
     "metadata": {},
     "output_type": "execute_result"
    }
   ],
   "execution_count": 899
  },
  {
   "cell_type": "markdown",
   "id": "e974c4fad642ee48",
   "metadata": {},
   "source": [
    "### Test XGBoost Regressor at depths 1 through 10"
   ]
  },
  {
   "cell_type": "code",
   "id": "55877516fb416200",
   "metadata": {
    "ExecuteTime": {
     "end_time": "2024-10-14T20:36:22.157885Z",
     "start_time": "2024-10-14T20:36:22.142513Z"
    }
   },
   "source": [
    "training_r2 = []\n",
    "testing_r2 = []"
   ],
   "outputs": [],
   "execution_count": 900
  },
  {
   "cell_type": "code",
   "id": "1fa1e3068025396c",
   "metadata": {
    "ExecuteTime": {
     "end_time": "2024-10-14T20:36:29.892540Z",
     "start_time": "2024-10-14T20:36:22.207053Z"
    }
   },
   "source": [
    "for trees in range(1, 30):\n",
    "    xgb_r = xgboost.XGBRegressor(objective='reg:squarederror', enable_categorical=True, n_estimators = trees)\n",
    "    xgb_r.fit(X_train, y_train)\n",
    "    \n",
    "    y_train_pred = xgb_r.predict(X_train)\n",
    "    training_r2.append(r2_score(y_train, y_train_pred))\n",
    "    \n",
    "    y_test_pred = xgb_r.predict(X_test)\n",
    "    testing_r2.append(r2_score(y_test, y_test_pred))\n",
    "    "
   ],
   "outputs": [],
   "execution_count": 901
  },
  {
   "cell_type": "code",
   "id": "add52f01268194cb",
   "metadata": {
    "ExecuteTime": {
     "end_time": "2024-10-14T20:36:30.018783Z",
     "start_time": "2024-10-14T20:36:29.941711Z"
    }
   },
   "source": [
    "plt.plot(training_r2, label=\"Training\")\n",
    "plt.plot(testing_r2, label = \"Testing\")\n",
    "plt.xlabel('Max Trees')\n",
    "plt.ylabel('R2 Score')\n",
    "plt.legend(loc = 'upper left')\n",
    "plt.show()"
   ],
   "outputs": [
    {
     "data": {
      "text/plain": [
       "<Figure size 600x400 with 1 Axes>"
      ],
      "image/png": "[encoded data removed]"
     },
     "metadata": {},
     "output_type": "display_data"
    }
   ],
   "execution_count": 902
  },
  {
   "cell_type": "markdown",
   "id": "e0adb0a4fc2b42c5",
   "metadata": {},
   "source": [
    "## XGBoost Classifier: Percentage Rainfall\n"
   ]
  },
  {
   "cell_type": "code",
   "id": "b92f71f38d1148ab",
   "metadata": {
    "ExecuteTime": {
     "end_time": "2024-10-14T20:36:31.003229Z",
     "start_time": "2024-10-14T20:36:30.067018Z"
    }
   },
   "source": "data_frame = pd.read_csv('weather_data_excel.csv')",
   "outputs": [],
   "execution_count": 903
  },
  {
   "cell_type": "code",
   "id": "3114a556324a9430",
   "metadata": {
    "ExecuteTime": {
     "end_time": "2024-10-14T20:36:31.095336Z",
     "start_time": "2024-10-14T20:36:31.035039Z"
    }
   },
   "source": [
    "data_frame['Date'] = pd.to_datetime(data_frame['Date'])"
   ],
   "outputs": [],
   "execution_count": 904
  },
  {
   "cell_type": "code",
   "id": "e397ebf35e8d5946",
   "metadata": {
    "ExecuteTime": {
     "end_time": "2024-10-14T20:36:31.187721Z",
     "start_time": "2024-10-14T20:36:31.126964Z"
    }
   },
   "source": [
    "data_frame['Month'] = data_frame['Date'].dt.month\n",
    "data_frame['Day'] = data_frame['Date'].dt.day\n"
   ],
   "outputs": [],
   "execution_count": 905
  },
  {
   "cell_type": "code",
   "id": "126572222e71a05c",
   "metadata": {
    "ExecuteTime": {
     "end_time": "2024-10-14T20:36:31.234360Z",
     "start_time": "2024-10-14T20:36:31.219736Z"
    }
   },
   "source": [
    "location_encoder = LabelEncoder()"
   ],
   "outputs": [],
   "execution_count": 906
  },
  {
   "cell_type": "code",
   "id": "548615aa34c8d49d",
   "metadata": {
    "ExecuteTime": {
     "end_time": "2024-10-14T20:36:31.372154Z",
     "start_time": "2024-10-14T20:36:31.265222Z"
    }
   },
   "source": [
    "data_frame['Location_encoded'] = location_encoder.fit_transform(data_frame['Location'])"
   ],
   "outputs": [],
   "execution_count": 907
  },
  {
   "cell_type": "code",
   "id": "17219ba16e525cb0",
   "metadata": {
    "ExecuteTime": {
     "end_time": "2024-10-14T20:36:31.418415Z",
     "start_time": "2024-10-14T20:36:31.403218Z"
    }
   },
   "source": [
    "# This is the threshold, in mm, for if rainfall is classified as rain or not\n",
    "# 0.254mm is the threshold the National Weather Service uses when determine if precipitation should be reported as rain\n",
    "threshold = 0.254\n",
    "data_frame['Rainfall'] = (data_frame['Precipitation_mm'] >= threshold).astype(int)"
   ],
   "outputs": [],
   "execution_count": 908
  },
  {
   "metadata": {
    "ExecuteTime": {
     "end_time": "2024-10-14T20:36:31.542797Z",
     "start_time": "2024-10-14T20:36:31.465627Z"
    }
   },
   "cell_type": "code",
   "source": [
    "data_frame_pos = data_frame[data_frame['Rainfall']==1]\n",
    "data_frame_neg = data_frame[data_frame['Rainfall']==0]\n",
    "\n",
    "num = data_frame.shape[0]\n",
    "num_pos = data_frame_pos.shape[0]\n",
    "num_neg = data_frame_neg.shape[0]\n",
    "\n",
    "print('Number of examples = ', num)\n",
    "print('Number of positive examples = ', num_pos)\n",
    "print('Number of negative examples = ', num_neg)\n",
    "print(f'Percentage of positive examples = {np.round((num_pos / num) * 100, 4)}%')\n"
   ],
   "id": "186c3f4df94cea0b",
   "outputs": [
    {
     "name": "stdout",
     "output_type": "stream",
     "text": [
      "Number of examples =  1000000\n",
      "Number of positive examples =  975735\n",
      "Number of negative examples =  24265\n",
      "Percentage of positive examples = 97.5735%\n"
     ]
    }
   ],
   "execution_count": 909
  },
  {
   "metadata": {
    "ExecuteTime": {
     "end_time": "2024-10-14T20:36:31.605383Z",
     "start_time": "2024-10-14T20:36:31.574935Z"
    }
   },
   "cell_type": "code",
   "source": "data_frame.sample(5)",
   "id": "63cf3007eb801fde",
   "outputs": [
    {
     "data": {
      "text/plain": [
       "        Location        Date_Time  Temperature_C  Humidity_pct  \\\n",
       "155645   Chicago  1/29/2024 17:52       6.512245     51.854774   \n",
       "915446   Chicago  2/15/2024 22:33       7.642419     83.598451   \n",
       "69183   New York  1/23/2024 22:06      15.265828     41.629440   \n",
       "349620  New York  3/20/2024 17:26      37.433414     34.797383   \n",
       "208506   Chicago    5/1/2024 6:36      23.173138     57.887246   \n",
       "\n",
       "        Precipitation_mm  Wind_Speed_kmh  Temperature_F       Date  \\\n",
       "155645          1.612469       23.232564      43.722042 2024-01-29   \n",
       "915446          9.265416        8.579704      45.756355 2024-02-15   \n",
       "69183           0.720999       28.508546      59.478490 2024-01-23   \n",
       "349620          3.596574       10.047486      99.380145 2024-03-20   \n",
       "208506          2.155895        1.305344      73.711648 2024-05-01   \n",
       "\n",
       "       Military_Time  Rain_Category  Rain_Cat_Num  Precipitation_in  Month  \\\n",
       "155645         17:52     Light Rain             0          0.063483      1   \n",
       "915446         22:33     Heavy Rain             2          0.364780      2   \n",
       "69183          22:06     Light Rain             0          0.028386      1   \n",
       "349620         17:26  Moderate Rain             1          0.141597      3   \n",
       "208506         06:36     Light Rain             0          0.084878      5   \n",
       "\n",
       "        Day  Location_encoded  Rainfall  \n",
       "155645   29                 0         1  \n",
       "915446   15                 0         1  \n",
       "69183    23                 4         1  \n",
       "349620   20                 4         1  \n",
       "208506    1                 0         1  "
      ],
      "text/html": [
       "<div>\n",
       "<style scoped>\n",
       "    .dataframe tbody tr th:only-of-type {\n",
       "        vertical-align: middle;\n",
       "    }\n",
       "\n",
       "    .dataframe tbody tr th {\n",
       "        vertical-align: top;\n",
       "    }\n",
       "\n",
       "    .dataframe thead th {\n",
       "        text-align: right;\n",
       "    }\n",
       "</style>\n",
       "<table border=\"1\" class=\"dataframe\">\n",
       "  <thead>\n",
       "    <tr style=\"text-align: right;\">\n",
       "      <th></th>\n",
       "      <th>Location</th>\n",
       "      <th>Date_Time</th>\n",
       "      <th>Temperature_C</th>\n",
       "      <th>Humidity_pct</th>\n",
       "      <th>Precipitation_mm</th>\n",
       "      <th>Wind_Speed_kmh</th>\n",
       "      <th>Temperature_F</th>\n",
       "      <th>Date</th>\n",
       "      <th>Military_Time</th>\n",
       "      <th>Rain_Category</th>\n",
       "      <th>Rain_Cat_Num</th>\n",
       "      <th>Precipitation_in</th>\n",
       "      <th>Month</th>\n",
       "      <th>Day</th>\n",
       "      <th>Location_encoded</th>\n",
       "      <th>Rainfall</th>\n",
       "    </tr>\n",
       "  </thead>\n",
       "  <tbody>\n",
       "    <tr>\n",
       "      <th>155645</th>\n",
       "      <td>Chicago</td>\n",
       "      <td>1/29/2024 17:52</td>\n",
       "      <td>6.512245</td>\n",
       "      <td>51.854774</td>\n",
       "      <td>1.612469</td>\n",
       "      <td>23.232564</td>\n",
       "      <td>43.722042</td>\n",
       "      <td>2024-01-29</td>\n",
       "      <td>17:52</td>\n",
       "      <td>Light Rain</td>\n",
       "      <td>0</td>\n",
       "      <td>0.063483</td>\n",
       "      <td>1</td>\n",
       "      <td>29</td>\n",
       "      <td>0</td>\n",
       "      <td>1</td>\n",
       "    </tr>\n",
       "    <tr>\n",
       "      <th>915446</th>\n",
       "      <td>Chicago</td>\n",
       "      <td>2/15/2024 22:33</td>\n",
       "      <td>7.642419</td>\n",
       "      <td>83.598451</td>\n",
       "      <td>9.265416</td>\n",
       "      <td>8.579704</td>\n",
       "      <td>45.756355</td>\n",
       "      <td>2024-02-15</td>\n",
       "      <td>22:33</td>\n",
       "      <td>Heavy Rain</td>\n",
       "      <td>2</td>\n",
       "      <td>0.364780</td>\n",
       "      <td>2</td>\n",
       "      <td>15</td>\n",
       "      <td>0</td>\n",
       "      <td>1</td>\n",
       "    </tr>\n",
       "    <tr>\n",
       "      <th>69183</th>\n",
       "      <td>New York</td>\n",
       "      <td>1/23/2024 22:06</td>\n",
       "      <td>15.265828</td>\n",
       "      <td>41.629440</td>\n",
       "      <td>0.720999</td>\n",
       "      <td>28.508546</td>\n",
       "      <td>59.478490</td>\n",
       "      <td>2024-01-23</td>\n",
       "      <td>22:06</td>\n",
       "      <td>Light Rain</td>\n",
       "      <td>0</td>\n",
       "      <td>0.028386</td>\n",
       "      <td>1</td>\n",
       "      <td>23</td>\n",
       "      <td>4</td>\n",
       "      <td>1</td>\n",
       "    </tr>\n",
       "    <tr>\n",
       "      <th>349620</th>\n",
       "      <td>New York</td>\n",
       "      <td>3/20/2024 17:26</td>\n",
       "      <td>37.433414</td>\n",
       "      <td>34.797383</td>\n",
       "      <td>3.596574</td>\n",
       "      <td>10.047486</td>\n",
       "      <td>99.380145</td>\n",
       "      <td>2024-03-20</td>\n",
       "      <td>17:26</td>\n",
       "      <td>Moderate Rain</td>\n",
       "      <td>1</td>\n",
       "      <td>0.141597</td>\n",
       "      <td>3</td>\n",
       "      <td>20</td>\n",
       "      <td>4</td>\n",
       "      <td>1</td>\n",
       "    </tr>\n",
       "    <tr>\n",
       "      <th>208506</th>\n",
       "      <td>Chicago</td>\n",
       "      <td>5/1/2024 6:36</td>\n",
       "      <td>23.173138</td>\n",
       "      <td>57.887246</td>\n",
       "      <td>2.155895</td>\n",
       "      <td>1.305344</td>\n",
       "      <td>73.711648</td>\n",
       "      <td>2024-05-01</td>\n",
       "      <td>06:36</td>\n",
       "      <td>Light Rain</td>\n",
       "      <td>0</td>\n",
       "      <td>0.084878</td>\n",
       "      <td>5</td>\n",
       "      <td>1</td>\n",
       "      <td>0</td>\n",
       "      <td>1</td>\n",
       "    </tr>\n",
       "  </tbody>\n",
       "</table>\n",
       "</div>"
      ]
     },
     "execution_count": 910,
     "metadata": {},
     "output_type": "execute_result"
    }
   ],
   "execution_count": 910
  },
  {
   "cell_type": "code",
   "id": "1373f70e773254b6",
   "metadata": {
    "ExecuteTime": {
     "end_time": "2024-10-14T20:36:31.682044Z",
     "start_time": "2024-10-14T20:36:31.668076Z"
    }
   },
   "source": [
    "y=data_frame['Rainfall']"
   ],
   "outputs": [],
   "execution_count": 911
  },
  {
   "cell_type": "code",
   "id": "cae086d8322006a6",
   "metadata": {
    "ExecuteTime": {
     "end_time": "2024-10-14T20:36:31.824347Z",
     "start_time": "2024-10-14T20:36:31.805973Z"
    }
   },
   "source": "X = data_frame.drop(columns=['Precipitation_in', 'Precipitation_mm', 'Date', 'Military_Time', 'Rain_Category', 'Rain_Cat_Num', 'Location', 'Rainfall', 'Date_Time', 'Temperature_C'])",
   "outputs": [],
   "execution_count": 912
  },
  {
   "cell_type": "code",
   "id": "114d7e9fea9bbe8c",
   "metadata": {
    "ExecuteTime": {
     "end_time": "2024-10-14T20:36:31.871976Z",
     "start_time": "2024-10-14T20:36:31.857270Z"
    }
   },
   "source": [
    "X.columns"
   ],
   "outputs": [
    {
     "data": {
      "text/plain": [
       "Index(['Humidity_pct', 'Wind_Speed_kmh', 'Temperature_F', 'Month', 'Day',\n",
       "       'Location_encoded'],\n",
       "      dtype='object')"
      ]
     },
     "execution_count": 913,
     "metadata": {},
     "output_type": "execute_result"
    }
   ],
   "execution_count": 913
  },
  {
   "metadata": {
    "ExecuteTime": {
     "end_time": "2024-10-14T20:36:31.933729Z",
     "start_time": "2024-10-14T20:36:31.903969Z"
    }
   },
   "cell_type": "code",
   "source": "X.sample(5)",
   "id": "2f63f1ebf01804ce",
   "outputs": [
    {
     "data": {
      "text/plain": [
       "        Humidity_pct  Wind_Speed_kmh  Temperature_F  Month  Day  \\\n",
       "695857     58.916294       26.957787      16.100656      2   16   \n",
       "899213     77.872790       21.546294      33.814633      4    3   \n",
       "418764     43.286724       17.830704      41.134928      5   13   \n",
       "743876     77.387364       22.026984      61.009421      4    3   \n",
       "560136     68.612113       27.180729      99.384229      3    1   \n",
       "\n",
       "        Location_encoded  \n",
       "695857                 9  \n",
       "899213                 9  \n",
       "418764                 5  \n",
       "743876                 2  \n",
       "560136                 1  "
      ],
      "text/html": [
       "<div>\n",
       "<style scoped>\n",
       "    .dataframe tbody tr th:only-of-type {\n",
       "        vertical-align: middle;\n",
       "    }\n",
       "\n",
       "    .dataframe tbody tr th {\n",
       "        vertical-align: top;\n",
       "    }\n",
       "\n",
       "    .dataframe thead th {\n",
       "        text-align: right;\n",
       "    }\n",
       "</style>\n",
       "<table border=\"1\" class=\"dataframe\">\n",
       "  <thead>\n",
       "    <tr style=\"text-align: right;\">\n",
       "      <th></th>\n",
       "      <th>Humidity_pct</th>\n",
       "      <th>Wind_Speed_kmh</th>\n",
       "      <th>Temperature_F</th>\n",
       "      <th>Month</th>\n",
       "      <th>Day</th>\n",
       "      <th>Location_encoded</th>\n",
       "    </tr>\n",
       "  </thead>\n",
       "  <tbody>\n",
       "    <tr>\n",
       "      <th>695857</th>\n",
       "      <td>58.916294</td>\n",
       "      <td>26.957787</td>\n",
       "      <td>16.100656</td>\n",
       "      <td>2</td>\n",
       "      <td>16</td>\n",
       "      <td>9</td>\n",
       "    </tr>\n",
       "    <tr>\n",
       "      <th>899213</th>\n",
       "      <td>77.872790</td>\n",
       "      <td>21.546294</td>\n",
       "      <td>33.814633</td>\n",
       "      <td>4</td>\n",
       "      <td>3</td>\n",
       "      <td>9</td>\n",
       "    </tr>\n",
       "    <tr>\n",
       "      <th>418764</th>\n",
       "      <td>43.286724</td>\n",
       "      <td>17.830704</td>\n",
       "      <td>41.134928</td>\n",
       "      <td>5</td>\n",
       "      <td>13</td>\n",
       "      <td>5</td>\n",
       "    </tr>\n",
       "    <tr>\n",
       "      <th>743876</th>\n",
       "      <td>77.387364</td>\n",
       "      <td>22.026984</td>\n",
       "      <td>61.009421</td>\n",
       "      <td>4</td>\n",
       "      <td>3</td>\n",
       "      <td>2</td>\n",
       "    </tr>\n",
       "    <tr>\n",
       "      <th>560136</th>\n",
       "      <td>68.612113</td>\n",
       "      <td>27.180729</td>\n",
       "      <td>99.384229</td>\n",
       "      <td>3</td>\n",
       "      <td>1</td>\n",
       "      <td>1</td>\n",
       "    </tr>\n",
       "  </tbody>\n",
       "</table>\n",
       "</div>"
      ]
     },
     "execution_count": 914,
     "metadata": {},
     "output_type": "execute_result"
    }
   ],
   "execution_count": 914
  },
  {
   "cell_type": "code",
   "id": "b8c670561ebe1b8c",
   "metadata": {
    "ExecuteTime": {
     "end_time": "2024-10-14T20:36:32.073444Z",
     "start_time": "2024-10-14T20:36:31.996989Z"
    }
   },
   "source": [
    "X_train, X_test, y_train, y_test = train_test_split(X, y, test_size = 0.2, random_state = 4700)"
   ],
   "outputs": [],
   "execution_count": 915
  },
  {
   "cell_type": "code",
   "id": "3d0edde3964cb3f",
   "metadata": {
    "ExecuteTime": {
     "end_time": "2024-10-14T20:36:32.150942Z",
     "start_time": "2024-10-14T20:36:32.140593Z"
    }
   },
   "source": "xgb_c = xgboost.XGBClassifier( n_estimators = 100, max_depth = 10 )",
   "outputs": [],
   "execution_count": 916
  },
  {
   "cell_type": "code",
   "id": "f0b3c8c77aa9b113",
   "metadata": {
    "ExecuteTime": {
     "end_time": "2024-10-14T20:36:33.445941Z",
     "start_time": "2024-10-14T20:36:32.177176Z"
    }
   },
   "source": [
    "xgb_c.fit(X_train, y_train)"
   ],
   "outputs": [
    {
     "data": {
      "text/plain": [
       "XGBClassifier(base_score=None, booster=None, callbacks=None,\n",
       "              colsample_bylevel=None, colsample_bynode=None,\n",
       "              colsample_bytree=None, device=None, early_stopping_rounds=None,\n",
       "              enable_categorical=False, eval_metric=None, feature_types=None,\n",
       "              gamma=None, grow_policy=None, importance_type=None,\n",
       "              interaction_constraints=None, learning_rate=None, max_bin=None,\n",
       "              max_cat_threshold=None, max_cat_to_onehot=None,\n",
       "              max_delta_step=None, max_depth=10, max_leaves=None,\n",
       "              min_child_weight=None, missing=nan, monotone_constraints=None,\n",
       "              multi_strategy=None, n_estimators=100, n_jobs=None,\n",
       "              num_parallel_tree=None, random_state=None, ...)"
      ],
      "text/html": [
       "<style>#sk-container-id-56 {\n",
       "  /* Definition of color scheme common for light and dark mode */\n",
       "  --sklearn-color-text: black;\n",
       "  --sklearn-color-line: gray;\n",
       "  /* Definition of color scheme for unfitted estimators */\n",
       "  --sklearn-color-unfitted-level-0: #fff5e6;\n",
       "  --sklearn-color-unfitted-level-1: #f6e4d2;\n",
       "  --sklearn-color-unfitted-level-2: #ffe0b3;\n",
       "  --sklearn-color-unfitted-level-3: chocolate;\n",
       "  /* Definition of color scheme for fitted estimators */\n",
       "  --sklearn-color-fitted-level-0: #f0f8ff;\n",
       "  --sklearn-color-fitted-level-1: #d4ebff;\n",
       "  --sklearn-color-fitted-level-2: #b3dbfd;\n",
       "  --sklearn-color-fitted-level-3: cornflowerblue;\n",
       "\n",
       "  /* Specific color for light theme */\n",
       "  --sklearn-color-text-on-default-background: var(--sg-text-color, var(--theme-code-foreground, var(--jp-content-font-color1, black)));\n",
       "  --sklearn-color-background: var(--sg-background-color, var(--theme-background, var(--jp-layout-color0, white)));\n",
       "  --sklearn-color-border-box: var(--sg-text-color, var(--theme-code-foreground, var(--jp-content-font-color1, black)));\n",
       "  --sklearn-color-icon: #696969;\n",
       "\n",
       "  @media (prefers-color-scheme: dark) {\n",
       "    /* Redefinition of color scheme for dark theme */\n",
       "    --sklearn-color-text-on-default-background: var(--sg-text-color, var(--theme-code-foreground, var(--jp-content-font-color1, white)));\n",
       "    --sklearn-color-background: var(--sg-background-color, var(--theme-background, var(--jp-layout-color0, #111)));\n",
       "    --sklearn-color-border-box: var(--sg-text-color, var(--theme-code-foreground, var(--jp-content-font-color1, white)));\n",
       "    --sklearn-color-icon: #878787;\n",
       "  }\n",
       "}\n",
       "\n",
       "#sk-container-id-56 {\n",
       "  color: var(--sklearn-color-text);\n",
       "}\n",
       "\n",
       "#sk-container-id-56 pre {\n",
       "  padding: 0;\n",
       "}\n",
       "\n",
       "#sk-container-id-56 input.sk-hidden--visually {\n",
       "  border: 0;\n",
       "  clip: rect(1px 1px 1px 1px);\n",
       "  clip: rect(1px, 1px, 1px, 1px);\n",
       "  height: 1px;\n",
       "  margin: -1px;\n",
       "  overflow: hidden;\n",
       "  padding: 0;\n",
       "  position: absolute;\n",
       "  width: 1px;\n",
       "}\n",
       "\n",
       "#sk-container-id-56 div.sk-dashed-wrapped {\n",
       "  border: 1px dashed var(--sklearn-color-line);\n",
       "  margin: 0 0.4em 0.5em 0.4em;\n",
       "  box-sizing: border-box;\n",
       "  padding-bottom: 0.4em;\n",
       "  background-color: var(--sklearn-color-background);\n",
       "}\n",
       "\n",
       "#sk-container-id-56 div.sk-container {\n",
       "  /* jupyter's `normalize.less` sets `[hidden] { display: none; }`\n",
       "     but bootstrap.min.css set `[hidden] { display: none !important; }`\n",
       "     so we also need the `!important` here to be able to override the\n",
       "     default hidden behavior on the sphinx rendered scikit-learn.org.\n",
       "     See: https://github.com/scikit-learn/scikit-learn/issues/21755 */\n",
       "  display: inline-block !important;\n",
       "  position: relative;\n",
       "}\n",
       "\n",
       "#sk-container-id-56 div.sk-text-repr-fallback {\n",
       "  display: none;\n",
       "}\n",
       "\n",
       "div.sk-parallel-item,\n",
       "div.sk-serial,\n",
       "div.sk-item {\n",
       "  /* draw centered vertical line to link estimators */\n",
       "  background-image: linear-gradient(var(--sklearn-color-text-on-default-background), var(--sklearn-color-text-on-default-background));\n",
       "  background-size: 2px 100%;\n",
       "  background-repeat: no-repeat;\n",
       "  background-position: center center;\n",
       "}\n",
       "\n",
       "/* Parallel-specific style estimator block */\n",
       "\n",
       "#sk-container-id-56 div.sk-parallel-item::after {\n",
       "  content: \"\";\n",
       "  width: 100%;\n",
       "  border-bottom: 2px solid var(--sklearn-color-text-on-default-background);\n",
       "  flex-grow: 1;\n",
       "}\n",
       "\n",
       "#sk-container-id-56 div.sk-parallel {\n",
       "  display: flex;\n",
       "  align-items: stretch;\n",
       "  justify-content: center;\n",
       "  background-color: var(--sklearn-color-background);\n",
       "  position: relative;\n",
       "}\n",
       "\n",
       "#sk-container-id-56 div.sk-parallel-item {\n",
       "  display: flex;\n",
       "  flex-direction: column;\n",
       "}\n",
       "\n",
       "#sk-container-id-56 div.sk-parallel-item:first-child::after {\n",
       "  align-self: flex-end;\n",
       "  width: 50%;\n",
       "}\n",
       "\n",
       "#sk-container-id-56 div.sk-parallel-item:last-child::after {\n",
       "  align-self: flex-start;\n",
       "  width: 50%;\n",
       "}\n",
       "\n",
       "#sk-container-id-56 div.sk-parallel-item:only-child::after {\n",
       "  width: 0;\n",
       "}\n",
       "\n",
       "/* Serial-specific style estimator block */\n",
       "\n",
       "#sk-container-id-56 div.sk-serial {\n",
       "  display: flex;\n",
       "  flex-direction: column;\n",
       "  align-items: center;\n",
       "  background-color: var(--sklearn-color-background);\n",
       "  padding-right: 1em;\n",
       "  padding-left: 1em;\n",
       "}\n",
       "\n",
       "\n",
       "/* Toggleable style: style used for estimator/Pipeline/ColumnTransformer box that is\n",
       "clickable and can be expanded/collapsed.\n",
       "- Pipeline and ColumnTransformer use this feature and define the default style\n",
       "- Estimators will overwrite some part of the style using the `sk-estimator` class\n",
       "*/\n",
       "\n",
       "/* Pipeline and ColumnTransformer style (default) */\n",
       "\n",
       "#sk-container-id-56 div.sk-toggleable {\n",
       "  /* Default theme specific background. It is overwritten whether we have a\n",
       "  specific estimator or a Pipeline/ColumnTransformer */\n",
       "  background-color: var(--sklearn-color-background);\n",
       "}\n",
       "\n",
       "/* Toggleable label */\n",
       "#sk-container-id-56 label.sk-toggleable__label {\n",
       "  cursor: pointer;\n",
       "  display: block;\n",
       "  width: 100%;\n",
       "  margin-bottom: 0;\n",
       "  padding: 0.5em;\n",
       "  box-sizing: border-box;\n",
       "  text-align: center;\n",
       "}\n",
       "\n",
       "#sk-container-id-56 label.sk-toggleable__label-arrow:before {\n",
       "  /* Arrow on the left of the label */\n",
       "  content: \"▸\";\n",
       "  float: left;\n",
       "  margin-right: 0.25em;\n",
       "  color: var(--sklearn-color-icon);\n",
       "}\n",
       "\n",
       "#sk-container-id-56 label.sk-toggleable__label-arrow:hover:before {\n",
       "  color: var(--sklearn-color-text);\n",
       "}\n",
       "\n",
       "/* Toggleable content - dropdown */\n",
       "\n",
       "#sk-container-id-56 div.sk-toggleable__content {\n",
       "  max-height: 0;\n",
       "  max-width: 0;\n",
       "  overflow: hidden;\n",
       "  text-align: left;\n",
       "  /* unfitted */\n",
       "  background-color: var(--sklearn-color-unfitted-level-0);\n",
       "}\n",
       "\n",
       "#sk-container-id-56 div.sk-toggleable__content.fitted {\n",
       "  /* fitted */\n",
       "  background-color: var(--sklearn-color-fitted-level-0);\n",
       "}\n",
       "\n",
       "#sk-container-id-56 div.sk-toggleable__content pre {\n",
       "  margin: 0.2em;\n",
       "  border-radius: 0.25em;\n",
       "  color: var(--sklearn-color-text);\n",
       "  /* unfitted */\n",
       "  background-color: var(--sklearn-color-unfitted-level-0);\n",
       "}\n",
       "\n",
       "#sk-container-id-56 div.sk-toggleable__content.fitted pre {\n",
       "  /* unfitted */\n",
       "  background-color: var(--sklearn-color-fitted-level-0);\n",
       "}\n",
       "\n",
       "#sk-container-id-56 input.sk-toggleable__control:checked~div.sk-toggleable__content {\n",
       "  /* Expand drop-down */\n",
       "  max-height: 200px;\n",
       "  max-width: 100%;\n",
       "  overflow: auto;\n",
       "}\n",
       "\n",
       "#sk-container-id-56 input.sk-toggleable__control:checked~label.sk-toggleable__label-arrow:before {\n",
       "  content: \"▾\";\n",
       "}\n",
       "\n",
       "/* Pipeline/ColumnTransformer-specific style */\n",
       "\n",
       "#sk-container-id-56 div.sk-label input.sk-toggleable__control:checked~label.sk-toggleable__label {\n",
       "  color: var(--sklearn-color-text);\n",
       "  background-color: var(--sklearn-color-unfitted-level-2);\n",
       "}\n",
       "\n",
       "#sk-container-id-56 div.sk-label.fitted input.sk-toggleable__control:checked~label.sk-toggleable__label {\n",
       "  background-color: var(--sklearn-color-fitted-level-2);\n",
       "}\n",
       "\n",
       "/* Estimator-specific style */\n",
       "\n",
       "/* Colorize estimator box */\n",
       "#sk-container-id-56 div.sk-estimator input.sk-toggleable__control:checked~label.sk-toggleable__label {\n",
       "  /* unfitted */\n",
       "  background-color: var(--sklearn-color-unfitted-level-2);\n",
       "}\n",
       "\n",
       "#sk-container-id-56 div.sk-estimator.fitted input.sk-toggleable__control:checked~label.sk-toggleable__label {\n",
       "  /* fitted */\n",
       "  background-color: var(--sklearn-color-fitted-level-2);\n",
       "}\n",
       "\n",
       "#sk-container-id-56 div.sk-label label.sk-toggleable__label,\n",
       "#sk-container-id-56 div.sk-label label {\n",
       "  /* The background is the default theme color */\n",
       "  color: var(--sklearn-color-text-on-default-background);\n",
       "}\n",
       "\n",
       "/* On hover, darken the color of the background */\n",
       "#sk-container-id-56 div.sk-label:hover label.sk-toggleable__label {\n",
       "  color: var(--sklearn-color-text);\n",
       "  background-color: var(--sklearn-color-unfitted-level-2);\n",
       "}\n",
       "\n",
       "/* Label box, darken color on hover, fitted */\n",
       "#sk-container-id-56 div.sk-label.fitted:hover label.sk-toggleable__label.fitted {\n",
       "  color: var(--sklearn-color-text);\n",
       "  background-color: var(--sklearn-color-fitted-level-2);\n",
       "}\n",
       "\n",
       "/* Estimator label */\n",
       "\n",
       "#sk-container-id-56 div.sk-label label {\n",
       "  font-family: monospace;\n",
       "  font-weight: bold;\n",
       "  display: inline-block;\n",
       "  line-height: 1.2em;\n",
       "}\n",
       "\n",
       "#sk-container-id-56 div.sk-label-container {\n",
       "  text-align: center;\n",
       "}\n",
       "\n",
       "/* Estimator-specific */\n",
       "#sk-container-id-56 div.sk-estimator {\n",
       "  font-family: monospace;\n",
       "  border: 1px dotted var(--sklearn-color-border-box);\n",
       "  border-radius: 0.25em;\n",
       "  box-sizing: border-box;\n",
       "  margin-bottom: 0.5em;\n",
       "  /* unfitted */\n",
       "  background-color: var(--sklearn-color-unfitted-level-0);\n",
       "}\n",
       "\n",
       "#sk-container-id-56 div.sk-estimator.fitted {\n",
       "  /* fitted */\n",
       "  background-color: var(--sklearn-color-fitted-level-0);\n",
       "}\n",
       "\n",
       "/* on hover */\n",
       "#sk-container-id-56 div.sk-estimator:hover {\n",
       "  /* unfitted */\n",
       "  background-color: var(--sklearn-color-unfitted-level-2);\n",
       "}\n",
       "\n",
       "#sk-container-id-56 div.sk-estimator.fitted:hover {\n",
       "  /* fitted */\n",
       "  background-color: var(--sklearn-color-fitted-level-2);\n",
       "}\n",
       "\n",
       "/* Specification for estimator info (e.g. \"i\" and \"?\") */\n",
       "\n",
       "/* Common style for \"i\" and \"?\" */\n",
       "\n",
       ".sk-estimator-doc-link,\n",
       "a:link.sk-estimator-doc-link,\n",
       "a:visited.sk-estimator-doc-link {\n",
       "  float: right;\n",
       "  font-size: smaller;\n",
       "  line-height: 1em;\n",
       "  font-family: monospace;\n",
       "  background-color: var(--sklearn-color-background);\n",
       "  border-radius: 1em;\n",
       "  height: 1em;\n",
       "  width: 1em;\n",
       "  text-decoration: none !important;\n",
       "  margin-left: 1ex;\n",
       "  /* unfitted */\n",
       "  border: var(--sklearn-color-unfitted-level-1) 1pt solid;\n",
       "  color: var(--sklearn-color-unfitted-level-1);\n",
       "}\n",
       "\n",
       ".sk-estimator-doc-link.fitted,\n",
       "a:link.sk-estimator-doc-link.fitted,\n",
       "a:visited.sk-estimator-doc-link.fitted {\n",
       "  /* fitted */\n",
       "  border: var(--sklearn-color-fitted-level-1) 1pt solid;\n",
       "  color: var(--sklearn-color-fitted-level-1);\n",
       "}\n",
       "\n",
       "/* On hover */\n",
       "div.sk-estimator:hover .sk-estimator-doc-link:hover,\n",
       ".sk-estimator-doc-link:hover,\n",
       "div.sk-label-container:hover .sk-estimator-doc-link:hover,\n",
       ".sk-estimator-doc-link:hover {\n",
       "  /* unfitted */\n",
       "  background-color: var(--sklearn-color-unfitted-level-3);\n",
       "  color: var(--sklearn-color-background);\n",
       "  text-decoration: none;\n",
       "}\n",
       "\n",
       "div.sk-estimator.fitted:hover .sk-estimator-doc-link.fitted:hover,\n",
       ".sk-estimator-doc-link.fitted:hover,\n",
       "div.sk-label-container:hover .sk-estimator-doc-link.fitted:hover,\n",
       ".sk-estimator-doc-link.fitted:hover {\n",
       "  /* fitted */\n",
       "  background-color: var(--sklearn-color-fitted-level-3);\n",
       "  color: var(--sklearn-color-background);\n",
       "  text-decoration: none;\n",
       "}\n",
       "\n",
       "/* Span, style for the box shown on hovering the info icon */\n",
       ".sk-estimator-doc-link span {\n",
       "  display: none;\n",
       "  z-index: 9999;\n",
       "  position: relative;\n",
       "  font-weight: normal;\n",
       "  right: .2ex;\n",
       "  padding: .5ex;\n",
       "  margin: .5ex;\n",
       "  width: min-content;\n",
       "  min-width: 20ex;\n",
       "  max-width: 50ex;\n",
       "  color: var(--sklearn-color-text);\n",
       "  box-shadow: 2pt 2pt 4pt #999;\n",
       "  /* unfitted */\n",
       "  background: var(--sklearn-color-unfitted-level-0);\n",
       "  border: .5pt solid var(--sklearn-color-unfitted-level-3);\n",
       "}\n",
       "\n",
       ".sk-estimator-doc-link.fitted span {\n",
       "  /* fitted */\n",
       "  background: var(--sklearn-color-fitted-level-0);\n",
       "  border: var(--sklearn-color-fitted-level-3);\n",
       "}\n",
       "\n",
       ".sk-estimator-doc-link:hover span {\n",
       "  display: block;\n",
       "}\n",
       "\n",
       "/* \"?\"-specific style due to the `<a>` HTML tag */\n",
       "\n",
       "#sk-container-id-56 a.estimator_doc_link {\n",
       "  float: right;\n",
       "  font-size: 1rem;\n",
       "  line-height: 1em;\n",
       "  font-family: monospace;\n",
       "  background-color: var(--sklearn-color-background);\n",
       "  border-radius: 1rem;\n",
       "  height: 1rem;\n",
       "  width: 1rem;\n",
       "  text-decoration: none;\n",
       "  /* unfitted */\n",
       "  color: var(--sklearn-color-unfitted-level-1);\n",
       "  border: var(--sklearn-color-unfitted-level-1) 1pt solid;\n",
       "}\n",
       "\n",
       "#sk-container-id-56 a.estimator_doc_link.fitted {\n",
       "  /* fitted */\n",
       "  border: var(--sklearn-color-fitted-level-1) 1pt solid;\n",
       "  color: var(--sklearn-color-fitted-level-1);\n",
       "}\n",
       "\n",
       "/* On hover */\n",
       "#sk-container-id-56 a.estimator_doc_link:hover {\n",
       "  /* unfitted */\n",
       "  background-color: var(--sklearn-color-unfitted-level-3);\n",
       "  color: var(--sklearn-color-background);\n",
       "  text-decoration: none;\n",
       "}\n",
       "\n",
       "#sk-container-id-56 a.estimator_doc_link.fitted:hover {\n",
       "  /* fitted */\n",
       "  background-color: var(--sklearn-color-fitted-level-3);\n",
       "}\n",
       "</style><div id=\"sk-container-id-56\" class=\"sk-top-container\"><div class=\"sk-text-repr-fallback\"><pre>XGBClassifier(base_score=None, booster=None, callbacks=None,\n",
       "              colsample_bylevel=None, colsample_bynode=None,\n",
       "              colsample_bytree=None, device=None, early_stopping_rounds=None,\n",
       "              enable_categorical=False, eval_metric=None, feature_types=None,\n",
       "              gamma=None, grow_policy=None, importance_type=None,\n",
       "              interaction_constraints=None, learning_rate=None, max_bin=None,\n",
       "              max_cat_threshold=None, max_cat_to_onehot=None,\n",
       "              max_delta_step=None, max_depth=10, max_leaves=None,\n",
       "              min_child_weight=None, missing=nan, monotone_constraints=None,\n",
       "              multi_strategy=None, n_estimators=100, n_jobs=None,\n",
       "              num_parallel_tree=None, random_state=None, ...)</pre><b>In a Jupyter environment, please rerun this cell to show the HTML representation or trust the notebook. <br />On GitHub, the HTML representation is unable to render, please try loading this page with nbviewer.org.</b></div><div class=\"sk-container\" hidden><div class=\"sk-item\"><div class=\"sk-estimator fitted sk-toggleable\"><input class=\"sk-toggleable__control sk-hidden--visually\" id=\"sk-estimator-id-56\" type=\"checkbox\" checked><label for=\"sk-estimator-id-56\" class=\"sk-toggleable__label fitted sk-toggleable__label-arrow fitted\">&nbsp;XGBClassifier<span class=\"sk-estimator-doc-link fitted\">i<span>Fitted</span></span></label><div class=\"sk-toggleable__content fitted\"><pre>XGBClassifier(base_score=None, booster=None, callbacks=None,\n",
       "              colsample_bylevel=None, colsample_bynode=None,\n",
       "              colsample_bytree=None, device=None, early_stopping_rounds=None,\n",
       "              enable_categorical=False, eval_metric=None, feature_types=None,\n",
       "              gamma=None, grow_policy=None, importance_type=None,\n",
       "              interaction_constraints=None, learning_rate=None, max_bin=None,\n",
       "              max_cat_threshold=None, max_cat_to_onehot=None,\n",
       "              max_delta_step=None, max_depth=10, max_leaves=None,\n",
       "              min_child_weight=None, missing=nan, monotone_constraints=None,\n",
       "              multi_strategy=None, n_estimators=100, n_jobs=None,\n",
       "              num_parallel_tree=None, random_state=None, ...)</pre></div> </div></div></div></div>"
      ]
     },
     "execution_count": 917,
     "metadata": {},
     "output_type": "execute_result"
    }
   ],
   "execution_count": 917
  },
  {
   "cell_type": "code",
   "id": "59e7ddf47ee53171",
   "metadata": {
    "ExecuteTime": {
     "end_time": "2024-10-14T20:36:33.684149Z",
     "start_time": "2024-10-14T20:36:33.494491Z"
    }
   },
   "source": [
    "y_train_pred = xgb_c.predict(X_train)\n",
    "training_accuracy = accuracy_score(y_train, y_train_pred)\n",
    "training_accuracy"
   ],
   "outputs": [
    {
     "data": {
      "text/plain": [
       "0.976185"
      ]
     },
     "execution_count": 918,
     "metadata": {},
     "output_type": "execute_result"
    }
   ],
   "execution_count": 918
  },
  {
   "cell_type": "code",
   "id": "3d94502aff799130",
   "metadata": {
    "ExecuteTime": {
     "end_time": "2024-10-14T20:36:33.779197Z",
     "start_time": "2024-10-14T20:36:33.732536Z"
    }
   },
   "source": [
    "y_test_pred = xgb_c.predict(X_test)\n",
    "testing_accuracy = accuracy_score(y_test, y_test_pred)\n",
    "testing_accuracy\n"
   ],
   "outputs": [
    {
     "data": {
      "text/plain": [
       "0.975895"
      ]
     },
     "execution_count": 919,
     "metadata": {},
     "output_type": "execute_result"
    }
   ],
   "execution_count": 919
  },
  {
   "cell_type": "code",
   "id": "c5264c04bf434da0",
   "metadata": {
    "ExecuteTime": {
     "end_time": "2024-10-14T20:36:33.874421Z",
     "start_time": "2024-10-14T20:36:33.857471Z"
    }
   },
   "source": [
    "# Saving the model and encoder\n",
    "#dump(xgb_c, 'rain_probability_predictor.pkl')\n",
    "#dump(location_encoder, 'location_encoder.pkl')"
   ],
   "outputs": [],
   "execution_count": 920
  },
  {
   "metadata": {},
   "cell_type": "markdown",
   "source": "### See how important each input is ",
   "id": "502a3e4c3801ba6b"
  },
  {
   "metadata": {
    "ExecuteTime": {
     "end_time": "2024-10-14T20:36:33.920342Z",
     "start_time": "2024-10-14T20:36:33.906092Z"
    }
   },
   "cell_type": "code",
   "source": "X.columns",
   "id": "cb936d94cec04769",
   "outputs": [
    {
     "data": {
      "text/plain": [
       "Index(['Humidity_pct', 'Wind_Speed_kmh', 'Temperature_F', 'Month', 'Day',\n",
       "       'Location_encoded'],\n",
       "      dtype='object')"
      ]
     },
     "execution_count": 921,
     "metadata": {},
     "output_type": "execute_result"
    }
   ],
   "execution_count": 921
  },
  {
   "metadata": {
    "ExecuteTime": {
     "end_time": "2024-10-14T20:36:33.984034Z",
     "start_time": "2024-10-14T20:36:33.973424Z"
    }
   },
   "cell_type": "code",
   "source": "xgb_c.feature_importances_",
   "id": "bc79cbf03e2e8be1",
   "outputs": [
    {
     "data": {
      "text/plain": [
       "array([0.16067868, 0.1614316 , 0.1611361 , 0.17257822, 0.15485017,\n",
       "       0.18932527], dtype=float32)"
      ]
     },
     "execution_count": 922,
     "metadata": {},
     "output_type": "execute_result"
    }
   ],
   "execution_count": 922
  },
  {
   "cell_type": "markdown",
   "id": "5d6838f05aa92eb3",
   "metadata": {},
   "source": [
    "### Visualise Data"
   ]
  },
  {
   "cell_type": "code",
   "id": "86a49f9aa8bd1c16",
   "metadata": {
    "ExecuteTime": {
     "end_time": "2024-10-14T20:36:34.330808Z",
     "start_time": "2024-10-14T20:36:34.049357Z"
    }
   },
   "source": [
    "y_pred = xgb_c.predict(X_test)\n",
    "cm = confusion_matrix(y_test, y_pred)\n",
    "disp = ConfusionMatrixDisplay( confusion_matrix=cm, display_labels=['No Rain', 'Rain'])\n",
    "disp.plot(cmap=plt.cm.Blues)\n",
    "plt.title('Confusion Matrix')\n",
    "plt.show()"
   ],
   "outputs": [
    {
     "data": {
      "text/plain": [
       "<Figure size 600x400 with 2 Axes>"
      ],
      "image/png": "[encoded data removed]"
     },
     "metadata": {},
     "output_type": "display_data"
    }
   ],
   "execution_count": 923
  },
  {
   "cell_type": "markdown",
   "id": "876556865f80c5f3",
   "metadata": {},
   "source": [
    "## XGBoost Classifier"
   ]
  },
  {
   "cell_type": "code",
   "id": "9763fcdbc38266e2",
   "metadata": {
    "ExecuteTime": {
     "end_time": "2024-10-14T20:36:35.300136Z",
     "start_time": "2024-10-14T20:36:34.363506Z"
    }
   },
   "source": [
    "# Write XGB Classifier Code Here\n",
    "# edf = pd.read_excel('weather_data_excel.xlsx')\n",
    "edf = pd.read_csv('weather_data_excel.csv')\n",
    "edf = edf.iloc[:1000000]\n",
    "edf"
   ],
   "outputs": [
    {
     "data": {
      "text/plain": [
       "         Location        Date_Time  Temperature_C  Humidity_pct  \\\n",
       "0        San Jose   4/16/2024 3:44      17.199707     71.429300   \n",
       "1         Houston  3/21/2024 15:32       2.238515     51.415780   \n",
       "2         Houston   2/27/2024 1:05      29.209095     50.340174   \n",
       "3         Phoenix   4/23/2024 0:39      15.041607     78.159361   \n",
       "4       San Diego   5/2/2024 20:45      12.799834     62.244326   \n",
       "...           ...              ...            ...           ...   \n",
       "999995    Phoenix   2/22/2024 8:35      -0.872399     37.180646   \n",
       "999996    Phoenix  1/10/2024 19:03      14.200155     78.319692   \n",
       "999997    Phoenix   1/8/2024 21:01      19.848658     75.733769   \n",
       "999998    Phoenix   1/16/2024 8:12      -3.586550     81.166402   \n",
       "999999    Phoenix    1/2/2024 0:58      -0.125291     79.288523   \n",
       "\n",
       "        Precipitation_mm  Wind_Speed_kmh  Temperature_F       Date  \\\n",
       "0               0.000009        4.665638      62.959473  4/16/2024   \n",
       "1               0.000010        3.578842      36.029327  3/21/2024   \n",
       "2               0.000029        9.968438      84.576371  2/27/2024   \n",
       "3               0.000032       21.713389      59.074893  4/23/2024   \n",
       "4               0.000089       27.277552      55.039702   5/2/2024   \n",
       "...                  ...             ...            ...        ...   \n",
       "999995         14.896195       18.147337      30.429682  2/22/2024   \n",
       "999996         14.912323       19.157155      57.560279  1/10/2024   \n",
       "999997         14.917006       15.453639      67.727585   1/8/2024   \n",
       "999998         14.926332       13.758749      25.544210  1/16/2024   \n",
       "999999         14.971583       22.641603      31.774477   1/2/2024   \n",
       "\n",
       "       Military_Time Rain_Category  Rain_Cat_Num  Precipitation_in  \n",
       "0              03:44    Light Rain             0      3.505573e-07  \n",
       "1              15:32    Light Rain             0      4.092205e-07  \n",
       "2              01:05    Light Rain             0      1.157432e-06  \n",
       "3              00:39    Light Rain             0      1.261625e-06  \n",
       "4              20:45    Light Rain             0      3.493707e-06  \n",
       "...              ...           ...           ...               ...  \n",
       "999995         08:35    Heavy Rain             2      5.864644e-01  \n",
       "999996         19:03    Heavy Rain             2      5.870993e-01  \n",
       "999997         21:01    Heavy Rain             2      5.872837e-01  \n",
       "999998         08:12    Heavy Rain             2      5.876509e-01  \n",
       "999999         00:58    Heavy Rain             2      5.894324e-01  \n",
       "\n",
       "[1000000 rows x 12 columns]"
      ],
      "text/html": [
       "<div>\n",
       "<style scoped>\n",
       "    .dataframe tbody tr th:only-of-type {\n",
       "        vertical-align: middle;\n",
       "    }\n",
       "\n",
       "    .dataframe tbody tr th {\n",
       "        vertical-align: top;\n",
       "    }\n",
       "\n",
       "    .dataframe thead th {\n",
       "        text-align: right;\n",
       "    }\n",
       "</style>\n",
       "<table border=\"1\" class=\"dataframe\">\n",
       "  <thead>\n",
       "    <tr style=\"text-align: right;\">\n",
       "      <th></th>\n",
       "      <th>Location</th>\n",
       "      <th>Date_Time</th>\n",
       "      <th>Temperature_C</th>\n",
       "      <th>Humidity_pct</th>\n",
       "      <th>Precipitation_mm</th>\n",
       "      <th>Wind_Speed_kmh</th>\n",
       "      <th>Temperature_F</th>\n",
       "      <th>Date</th>\n",
       "      <th>Military_Time</th>\n",
       "      <th>Rain_Category</th>\n",
       "      <th>Rain_Cat_Num</th>\n",
       "      <th>Precipitation_in</th>\n",
       "    </tr>\n",
       "  </thead>\n",
       "  <tbody>\n",
       "    <tr>\n",
       "      <th>0</th>\n",
       "      <td>San Jose</td>\n",
       "      <td>4/16/2024 3:44</td>\n",
       "      <td>17.199707</td>\n",
       "      <td>71.429300</td>\n",
       "      <td>0.000009</td>\n",
       "      <td>4.665638</td>\n",
       "      <td>62.959473</td>\n",
       "      <td>4/16/2024</td>\n",
       "      <td>03:44</td>\n",
       "      <td>Light Rain</td>\n",
       "      <td>0</td>\n",
       "      <td>3.505573e-07</td>\n",
       "    </tr>\n",
       "    <tr>\n",
       "      <th>1</th>\n",
       "      <td>Houston</td>\n",
       "      <td>3/21/2024 15:32</td>\n",
       "      <td>2.238515</td>\n",
       "      <td>51.415780</td>\n",
       "      <td>0.000010</td>\n",
       "      <td>3.578842</td>\n",
       "      <td>36.029327</td>\n",
       "      <td>3/21/2024</td>\n",
       "      <td>15:32</td>\n",
       "      <td>Light Rain</td>\n",
       "      <td>0</td>\n",
       "      <td>4.092205e-07</td>\n",
       "    </tr>\n",
       "    <tr>\n",
       "      <th>2</th>\n",
       "      <td>Houston</td>\n",
       "      <td>2/27/2024 1:05</td>\n",
       "      <td>29.209095</td>\n",
       "      <td>50.340174</td>\n",
       "      <td>0.000029</td>\n",
       "      <td>9.968438</td>\n",
       "      <td>84.576371</td>\n",
       "      <td>2/27/2024</td>\n",
       "      <td>01:05</td>\n",
       "      <td>Light Rain</td>\n",
       "      <td>0</td>\n",
       "      <td>1.157432e-06</td>\n",
       "    </tr>\n",
       "    <tr>\n",
       "      <th>3</th>\n",
       "      <td>Phoenix</td>\n",
       "      <td>4/23/2024 0:39</td>\n",
       "      <td>15.041607</td>\n",
       "      <td>78.159361</td>\n",
       "      <td>0.000032</td>\n",
       "      <td>21.713389</td>\n",
       "      <td>59.074893</td>\n",
       "      <td>4/23/2024</td>\n",
       "      <td>00:39</td>\n",
       "      <td>Light Rain</td>\n",
       "      <td>0</td>\n",
       "      <td>1.261625e-06</td>\n",
       "    </tr>\n",
       "    <tr>\n",
       "      <th>4</th>\n",
       "      <td>San Diego</td>\n",
       "      <td>5/2/2024 20:45</td>\n",
       "      <td>12.799834</td>\n",
       "      <td>62.244326</td>\n",
       "      <td>0.000089</td>\n",
       "      <td>27.277552</td>\n",
       "      <td>55.039702</td>\n",
       "      <td>5/2/2024</td>\n",
       "      <td>20:45</td>\n",
       "      <td>Light Rain</td>\n",
       "      <td>0</td>\n",
       "      <td>3.493707e-06</td>\n",
       "    </tr>\n",
       "    <tr>\n",
       "      <th>...</th>\n",
       "      <td>...</td>\n",
       "      <td>...</td>\n",
       "      <td>...</td>\n",
       "      <td>...</td>\n",
       "      <td>...</td>\n",
       "      <td>...</td>\n",
       "      <td>...</td>\n",
       "      <td>...</td>\n",
       "      <td>...</td>\n",
       "      <td>...</td>\n",
       "      <td>...</td>\n",
       "      <td>...</td>\n",
       "    </tr>\n",
       "    <tr>\n",
       "      <th>999995</th>\n",
       "      <td>Phoenix</td>\n",
       "      <td>2/22/2024 8:35</td>\n",
       "      <td>-0.872399</td>\n",
       "      <td>37.180646</td>\n",
       "      <td>14.896195</td>\n",
       "      <td>18.147337</td>\n",
       "      <td>30.429682</td>\n",
       "      <td>2/22/2024</td>\n",
       "      <td>08:35</td>\n",
       "      <td>Heavy Rain</td>\n",
       "      <td>2</td>\n",
       "      <td>5.864644e-01</td>\n",
       "    </tr>\n",
       "    <tr>\n",
       "      <th>999996</th>\n",
       "      <td>Phoenix</td>\n",
       "      <td>1/10/2024 19:03</td>\n",
       "      <td>14.200155</td>\n",
       "      <td>78.319692</td>\n",
       "      <td>14.912323</td>\n",
       "      <td>19.157155</td>\n",
       "      <td>57.560279</td>\n",
       "      <td>1/10/2024</td>\n",
       "      <td>19:03</td>\n",
       "      <td>Heavy Rain</td>\n",
       "      <td>2</td>\n",
       "      <td>5.870993e-01</td>\n",
       "    </tr>\n",
       "    <tr>\n",
       "      <th>999997</th>\n",
       "      <td>Phoenix</td>\n",
       "      <td>1/8/2024 21:01</td>\n",
       "      <td>19.848658</td>\n",
       "      <td>75.733769</td>\n",
       "      <td>14.917006</td>\n",
       "      <td>15.453639</td>\n",
       "      <td>67.727585</td>\n",
       "      <td>1/8/2024</td>\n",
       "      <td>21:01</td>\n",
       "      <td>Heavy Rain</td>\n",
       "      <td>2</td>\n",
       "      <td>5.872837e-01</td>\n",
       "    </tr>\n",
       "    <tr>\n",
       "      <th>999998</th>\n",
       "      <td>Phoenix</td>\n",
       "      <td>1/16/2024 8:12</td>\n",
       "      <td>-3.586550</td>\n",
       "      <td>81.166402</td>\n",
       "      <td>14.926332</td>\n",
       "      <td>13.758749</td>\n",
       "      <td>25.544210</td>\n",
       "      <td>1/16/2024</td>\n",
       "      <td>08:12</td>\n",
       "      <td>Heavy Rain</td>\n",
       "      <td>2</td>\n",
       "      <td>5.876509e-01</td>\n",
       "    </tr>\n",
       "    <tr>\n",
       "      <th>999999</th>\n",
       "      <td>Phoenix</td>\n",
       "      <td>1/2/2024 0:58</td>\n",
       "      <td>-0.125291</td>\n",
       "      <td>79.288523</td>\n",
       "      <td>14.971583</td>\n",
       "      <td>22.641603</td>\n",
       "      <td>31.774477</td>\n",
       "      <td>1/2/2024</td>\n",
       "      <td>00:58</td>\n",
       "      <td>Heavy Rain</td>\n",
       "      <td>2</td>\n",
       "      <td>5.894324e-01</td>\n",
       "    </tr>\n",
       "  </tbody>\n",
       "</table>\n",
       "<p>1000000 rows × 12 columns</p>\n",
       "</div>"
      ]
     },
     "execution_count": 924,
     "metadata": {},
     "output_type": "execute_result"
    }
   ],
   "execution_count": 924
  },
  {
   "cell_type": "code",
   "id": "146bf58c-443b-4637-b845-8b85aca1902a",
   "metadata": {
    "ExecuteTime": {
     "end_time": "2024-10-14T20:36:35.896333Z",
     "start_time": "2024-10-14T20:36:35.363098Z"
    }
   },
   "source": [
    "edf['Hour'] = edf['Military_Time'].apply(lambda x: int(x.split(\":\")[0]))\n",
    "edf['Minute'] = edf['Military_Time'].apply(lambda x: int(x.split(\":\")[1]))\n",
    "edf"
   ],
   "outputs": [
    {
     "data": {
      "text/plain": [
       "         Location        Date_Time  Temperature_C  Humidity_pct  \\\n",
       "0        San Jose   4/16/2024 3:44      17.199707     71.429300   \n",
       "1         Houston  3/21/2024 15:32       2.238515     51.415780   \n",
       "2         Houston   2/27/2024 1:05      29.209095     50.340174   \n",
       "3         Phoenix   4/23/2024 0:39      15.041607     78.159361   \n",
       "4       San Diego   5/2/2024 20:45      12.799834     62.244326   \n",
       "...           ...              ...            ...           ...   \n",
       "999995    Phoenix   2/22/2024 8:35      -0.872399     37.180646   \n",
       "999996    Phoenix  1/10/2024 19:03      14.200155     78.319692   \n",
       "999997    Phoenix   1/8/2024 21:01      19.848658     75.733769   \n",
       "999998    Phoenix   1/16/2024 8:12      -3.586550     81.166402   \n",
       "999999    Phoenix    1/2/2024 0:58      -0.125291     79.288523   \n",
       "\n",
       "        Precipitation_mm  Wind_Speed_kmh  Temperature_F       Date  \\\n",
       "0               0.000009        4.665638      62.959473  4/16/2024   \n",
       "1               0.000010        3.578842      36.029327  3/21/2024   \n",
       "2               0.000029        9.968438      84.576371  2/27/2024   \n",
       "3               0.000032       21.713389      59.074893  4/23/2024   \n",
       "4               0.000089       27.277552      55.039702   5/2/2024   \n",
       "...                  ...             ...            ...        ...   \n",
       "999995         14.896195       18.147337      30.429682  2/22/2024   \n",
       "999996         14.912323       19.157155      57.560279  1/10/2024   \n",
       "999997         14.917006       15.453639      67.727585   1/8/2024   \n",
       "999998         14.926332       13.758749      25.544210  1/16/2024   \n",
       "999999         14.971583       22.641603      31.774477   1/2/2024   \n",
       "\n",
       "       Military_Time Rain_Category  Rain_Cat_Num  Precipitation_in  Hour  \\\n",
       "0              03:44    Light Rain             0      3.505573e-07     3   \n",
       "1              15:32    Light Rain             0      4.092205e-07    15   \n",
       "2              01:05    Light Rain             0      1.157432e-06     1   \n",
       "3              00:39    Light Rain             0      1.261625e-06     0   \n",
       "4              20:45    Light Rain             0      3.493707e-06    20   \n",
       "...              ...           ...           ...               ...   ...   \n",
       "999995         08:35    Heavy Rain             2      5.864644e-01     8   \n",
       "999996         19:03    Heavy Rain             2      5.870993e-01    19   \n",
       "999997         21:01    Heavy Rain             2      5.872837e-01    21   \n",
       "999998         08:12    Heavy Rain             2      5.876509e-01     8   \n",
       "999999         00:58    Heavy Rain             2      5.894324e-01     0   \n",
       "\n",
       "        Minute  \n",
       "0           44  \n",
       "1           32  \n",
       "2            5  \n",
       "3           39  \n",
       "4           45  \n",
       "...        ...  \n",
       "999995      35  \n",
       "999996       3  \n",
       "999997       1  \n",
       "999998      12  \n",
       "999999      58  \n",
       "\n",
       "[1000000 rows x 14 columns]"
      ],
      "text/html": [
       "<div>\n",
       "<style scoped>\n",
       "    .dataframe tbody tr th:only-of-type {\n",
       "        vertical-align: middle;\n",
       "    }\n",
       "\n",
       "    .dataframe tbody tr th {\n",
       "        vertical-align: top;\n",
       "    }\n",
       "\n",
       "    .dataframe thead th {\n",
       "        text-align: right;\n",
       "    }\n",
       "</style>\n",
       "<table border=\"1\" class=\"dataframe\">\n",
       "  <thead>\n",
       "    <tr style=\"text-align: right;\">\n",
       "      <th></th>\n",
       "      <th>Location</th>\n",
       "      <th>Date_Time</th>\n",
       "      <th>Temperature_C</th>\n",
       "      <th>Humidity_pct</th>\n",
       "      <th>Precipitation_mm</th>\n",
       "      <th>Wind_Speed_kmh</th>\n",
       "      <th>Temperature_F</th>\n",
       "      <th>Date</th>\n",
       "      <th>Military_Time</th>\n",
       "      <th>Rain_Category</th>\n",
       "      <th>Rain_Cat_Num</th>\n",
       "      <th>Precipitation_in</th>\n",
       "      <th>Hour</th>\n",
       "      <th>Minute</th>\n",
       "    </tr>\n",
       "  </thead>\n",
       "  <tbody>\n",
       "    <tr>\n",
       "      <th>0</th>\n",
       "      <td>San Jose</td>\n",
       "      <td>4/16/2024 3:44</td>\n",
       "      <td>17.199707</td>\n",
       "      <td>71.429300</td>\n",
       "      <td>0.000009</td>\n",
       "      <td>4.665638</td>\n",
       "      <td>62.959473</td>\n",
       "      <td>4/16/2024</td>\n",
       "      <td>03:44</td>\n",
       "      <td>Light Rain</td>\n",
       "      <td>0</td>\n",
       "      <td>3.505573e-07</td>\n",
       "      <td>3</td>\n",
       "      <td>44</td>\n",
       "    </tr>\n",
       "    <tr>\n",
       "      <th>1</th>\n",
       "      <td>Houston</td>\n",
       "      <td>3/21/2024 15:32</td>\n",
       "      <td>2.238515</td>\n",
       "      <td>51.415780</td>\n",
       "      <td>0.000010</td>\n",
       "      <td>3.578842</td>\n",
       "      <td>36.029327</td>\n",
       "      <td>3/21/2024</td>\n",
       "      <td>15:32</td>\n",
       "      <td>Light Rain</td>\n",
       "      <td>0</td>\n",
       "      <td>4.092205e-07</td>\n",
       "      <td>15</td>\n",
       "      <td>32</td>\n",
       "    </tr>\n",
       "    <tr>\n",
       "      <th>2</th>\n",
       "      <td>Houston</td>\n",
       "      <td>2/27/2024 1:05</td>\n",
       "      <td>29.209095</td>\n",
       "      <td>50.340174</td>\n",
       "      <td>0.000029</td>\n",
       "      <td>9.968438</td>\n",
       "      <td>84.576371</td>\n",
       "      <td>2/27/2024</td>\n",
       "      <td>01:05</td>\n",
       "      <td>Light Rain</td>\n",
       "      <td>0</td>\n",
       "      <td>1.157432e-06</td>\n",
       "      <td>1</td>\n",
       "      <td>5</td>\n",
       "    </tr>\n",
       "    <tr>\n",
       "      <th>3</th>\n",
       "      <td>Phoenix</td>\n",
       "      <td>4/23/2024 0:39</td>\n",
       "      <td>15.041607</td>\n",
       "      <td>78.159361</td>\n",
       "      <td>0.000032</td>\n",
       "      <td>21.713389</td>\n",
       "      <td>59.074893</td>\n",
       "      <td>4/23/2024</td>\n",
       "      <td>00:39</td>\n",
       "      <td>Light Rain</td>\n",
       "      <td>0</td>\n",
       "      <td>1.261625e-06</td>\n",
       "      <td>0</td>\n",
       "      <td>39</td>\n",
       "    </tr>\n",
       "    <tr>\n",
       "      <th>4</th>\n",
       "      <td>San Diego</td>\n",
       "      <td>5/2/2024 20:45</td>\n",
       "      <td>12.799834</td>\n",
       "      <td>62.244326</td>\n",
       "      <td>0.000089</td>\n",
       "      <td>27.277552</td>\n",
       "      <td>55.039702</td>\n",
       "      <td>5/2/2024</td>\n",
       "      <td>20:45</td>\n",
       "      <td>Light Rain</td>\n",
       "      <td>0</td>\n",
       "      <td>3.493707e-06</td>\n",
       "      <td>20</td>\n",
       "      <td>45</td>\n",
       "    </tr>\n",
       "    <tr>\n",
       "      <th>...</th>\n",
       "      <td>...</td>\n",
       "      <td>...</td>\n",
       "      <td>...</td>\n",
       "      <td>...</td>\n",
       "      <td>...</td>\n",
       "      <td>...</td>\n",
       "      <td>...</td>\n",
       "      <td>...</td>\n",
       "      <td>...</td>\n",
       "      <td>...</td>\n",
       "      <td>...</td>\n",
       "      <td>...</td>\n",
       "      <td>...</td>\n",
       "      <td>...</td>\n",
       "    </tr>\n",
       "    <tr>\n",
       "      <th>999995</th>\n",
       "      <td>Phoenix</td>\n",
       "      <td>2/22/2024 8:35</td>\n",
       "      <td>-0.872399</td>\n",
       "      <td>37.180646</td>\n",
       "      <td>14.896195</td>\n",
       "      <td>18.147337</td>\n",
       "      <td>30.429682</td>\n",
       "      <td>2/22/2024</td>\n",
       "      <td>08:35</td>\n",
       "      <td>Heavy Rain</td>\n",
       "      <td>2</td>\n",
       "      <td>5.864644e-01</td>\n",
       "      <td>8</td>\n",
       "      <td>35</td>\n",
       "    </tr>\n",
       "    <tr>\n",
       "      <th>999996</th>\n",
       "      <td>Phoenix</td>\n",
       "      <td>1/10/2024 19:03</td>\n",
       "      <td>14.200155</td>\n",
       "      <td>78.319692</td>\n",
       "      <td>14.912323</td>\n",
       "      <td>19.157155</td>\n",
       "      <td>57.560279</td>\n",
       "      <td>1/10/2024</td>\n",
       "      <td>19:03</td>\n",
       "      <td>Heavy Rain</td>\n",
       "      <td>2</td>\n",
       "      <td>5.870993e-01</td>\n",
       "      <td>19</td>\n",
       "      <td>3</td>\n",
       "    </tr>\n",
       "    <tr>\n",
       "      <th>999997</th>\n",
       "      <td>Phoenix</td>\n",
       "      <td>1/8/2024 21:01</td>\n",
       "      <td>19.848658</td>\n",
       "      <td>75.733769</td>\n",
       "      <td>14.917006</td>\n",
       "      <td>15.453639</td>\n",
       "      <td>67.727585</td>\n",
       "      <td>1/8/2024</td>\n",
       "      <td>21:01</td>\n",
       "      <td>Heavy Rain</td>\n",
       "      <td>2</td>\n",
       "      <td>5.872837e-01</td>\n",
       "      <td>21</td>\n",
       "      <td>1</td>\n",
       "    </tr>\n",
       "    <tr>\n",
       "      <th>999998</th>\n",
       "      <td>Phoenix</td>\n",
       "      <td>1/16/2024 8:12</td>\n",
       "      <td>-3.586550</td>\n",
       "      <td>81.166402</td>\n",
       "      <td>14.926332</td>\n",
       "      <td>13.758749</td>\n",
       "      <td>25.544210</td>\n",
       "      <td>1/16/2024</td>\n",
       "      <td>08:12</td>\n",
       "      <td>Heavy Rain</td>\n",
       "      <td>2</td>\n",
       "      <td>5.876509e-01</td>\n",
       "      <td>8</td>\n",
       "      <td>12</td>\n",
       "    </tr>\n",
       "    <tr>\n",
       "      <th>999999</th>\n",
       "      <td>Phoenix</td>\n",
       "      <td>1/2/2024 0:58</td>\n",
       "      <td>-0.125291</td>\n",
       "      <td>79.288523</td>\n",
       "      <td>14.971583</td>\n",
       "      <td>22.641603</td>\n",
       "      <td>31.774477</td>\n",
       "      <td>1/2/2024</td>\n",
       "      <td>00:58</td>\n",
       "      <td>Heavy Rain</td>\n",
       "      <td>2</td>\n",
       "      <td>5.894324e-01</td>\n",
       "      <td>0</td>\n",
       "      <td>58</td>\n",
       "    </tr>\n",
       "  </tbody>\n",
       "</table>\n",
       "<p>1000000 rows × 14 columns</p>\n",
       "</div>"
      ]
     },
     "execution_count": 925,
     "metadata": {},
     "output_type": "execute_result"
    }
   ],
   "execution_count": 925
  },
  {
   "cell_type": "code",
   "id": "70daf078-d673-459f-812a-5d887c85ed05",
   "metadata": {
    "ExecuteTime": {
     "end_time": "2024-10-14T20:36:35.990826Z",
     "start_time": "2024-10-14T20:36:35.960002Z"
    }
   },
   "source": [
    "#Removing empety rows\n",
    "X = edf.drop(columns=[\"Date\", \"Location\", \"Rain_Cat_Num\", \"Rain_Category\", 'Military_Time', 'Precipitation_mm', 'Date_Time'])\n",
    "X"
   ],
   "outputs": [
    {
     "data": {
      "text/plain": [
       "        Temperature_C  Humidity_pct  Wind_Speed_kmh  Temperature_F  \\\n",
       "0           17.199707     71.429300        4.665638      62.959473   \n",
       "1            2.238515     51.415780        3.578842      36.029327   \n",
       "2           29.209095     50.340174        9.968438      84.576371   \n",
       "3           15.041607     78.159361       21.713389      59.074893   \n",
       "4           12.799834     62.244326       27.277552      55.039702   \n",
       "...               ...           ...             ...            ...   \n",
       "999995      -0.872399     37.180646       18.147337      30.429682   \n",
       "999996      14.200155     78.319692       19.157155      57.560279   \n",
       "999997      19.848658     75.733769       15.453639      67.727585   \n",
       "999998      -3.586550     81.166402       13.758749      25.544210   \n",
       "999999      -0.125291     79.288523       22.641603      31.774477   \n",
       "\n",
       "        Precipitation_in  Hour  Minute  \n",
       "0           3.505573e-07     3      44  \n",
       "1           4.092205e-07    15      32  \n",
       "2           1.157432e-06     1       5  \n",
       "3           1.261625e-06     0      39  \n",
       "4           3.493707e-06    20      45  \n",
       "...                  ...   ...     ...  \n",
       "999995      5.864644e-01     8      35  \n",
       "999996      5.870993e-01    19       3  \n",
       "999997      5.872837e-01    21       1  \n",
       "999998      5.876509e-01     8      12  \n",
       "999999      5.894324e-01     0      58  \n",
       "\n",
       "[1000000 rows x 7 columns]"
      ],
      "text/html": [
       "<div>\n",
       "<style scoped>\n",
       "    .dataframe tbody tr th:only-of-type {\n",
       "        vertical-align: middle;\n",
       "    }\n",
       "\n",
       "    .dataframe tbody tr th {\n",
       "        vertical-align: top;\n",
       "    }\n",
       "\n",
       "    .dataframe thead th {\n",
       "        text-align: right;\n",
       "    }\n",
       "</style>\n",
       "<table border=\"1\" class=\"dataframe\">\n",
       "  <thead>\n",
       "    <tr style=\"text-align: right;\">\n",
       "      <th></th>\n",
       "      <th>Temperature_C</th>\n",
       "      <th>Humidity_pct</th>\n",
       "      <th>Wind_Speed_kmh</th>\n",
       "      <th>Temperature_F</th>\n",
       "      <th>Precipitation_in</th>\n",
       "      <th>Hour</th>\n",
       "      <th>Minute</th>\n",
       "    </tr>\n",
       "  </thead>\n",
       "  <tbody>\n",
       "    <tr>\n",
       "      <th>0</th>\n",
       "      <td>17.199707</td>\n",
       "      <td>71.429300</td>\n",
       "      <td>4.665638</td>\n",
       "      <td>62.959473</td>\n",
       "      <td>3.505573e-07</td>\n",
       "      <td>3</td>\n",
       "      <td>44</td>\n",
       "    </tr>\n",
       "    <tr>\n",
       "      <th>1</th>\n",
       "      <td>2.238515</td>\n",
       "      <td>51.415780</td>\n",
       "      <td>3.578842</td>\n",
       "      <td>36.029327</td>\n",
       "      <td>4.092205e-07</td>\n",
       "      <td>15</td>\n",
       "      <td>32</td>\n",
       "    </tr>\n",
       "    <tr>\n",
       "      <th>2</th>\n",
       "      <td>29.209095</td>\n",
       "      <td>50.340174</td>\n",
       "      <td>9.968438</td>\n",
       "      <td>84.576371</td>\n",
       "      <td>1.157432e-06</td>\n",
       "      <td>1</td>\n",
       "      <td>5</td>\n",
       "    </tr>\n",
       "    <tr>\n",
       "      <th>3</th>\n",
       "      <td>15.041607</td>\n",
       "      <td>78.159361</td>\n",
       "      <td>21.713389</td>\n",
       "      <td>59.074893</td>\n",
       "      <td>1.261625e-06</td>\n",
       "      <td>0</td>\n",
       "      <td>39</td>\n",
       "    </tr>\n",
       "    <tr>\n",
       "      <th>4</th>\n",
       "      <td>12.799834</td>\n",
       "      <td>62.244326</td>\n",
       "      <td>27.277552</td>\n",
       "      <td>55.039702</td>\n",
       "      <td>3.493707e-06</td>\n",
       "      <td>20</td>\n",
       "      <td>45</td>\n",
       "    </tr>\n",
       "    <tr>\n",
       "      <th>...</th>\n",
       "      <td>...</td>\n",
       "      <td>...</td>\n",
       "      <td>...</td>\n",
       "      <td>...</td>\n",
       "      <td>...</td>\n",
       "      <td>...</td>\n",
       "      <td>...</td>\n",
       "    </tr>\n",
       "    <tr>\n",
       "      <th>999995</th>\n",
       "      <td>-0.872399</td>\n",
       "      <td>37.180646</td>\n",
       "      <td>18.147337</td>\n",
       "      <td>30.429682</td>\n",
       "      <td>5.864644e-01</td>\n",
       "      <td>8</td>\n",
       "      <td>35</td>\n",
       "    </tr>\n",
       "    <tr>\n",
       "      <th>999996</th>\n",
       "      <td>14.200155</td>\n",
       "      <td>78.319692</td>\n",
       "      <td>19.157155</td>\n",
       "      <td>57.560279</td>\n",
       "      <td>5.870993e-01</td>\n",
       "      <td>19</td>\n",
       "      <td>3</td>\n",
       "    </tr>\n",
       "    <tr>\n",
       "      <th>999997</th>\n",
       "      <td>19.848658</td>\n",
       "      <td>75.733769</td>\n",
       "      <td>15.453639</td>\n",
       "      <td>67.727585</td>\n",
       "      <td>5.872837e-01</td>\n",
       "      <td>21</td>\n",
       "      <td>1</td>\n",
       "    </tr>\n",
       "    <tr>\n",
       "      <th>999998</th>\n",
       "      <td>-3.586550</td>\n",
       "      <td>81.166402</td>\n",
       "      <td>13.758749</td>\n",
       "      <td>25.544210</td>\n",
       "      <td>5.876509e-01</td>\n",
       "      <td>8</td>\n",
       "      <td>12</td>\n",
       "    </tr>\n",
       "    <tr>\n",
       "      <th>999999</th>\n",
       "      <td>-0.125291</td>\n",
       "      <td>79.288523</td>\n",
       "      <td>22.641603</td>\n",
       "      <td>31.774477</td>\n",
       "      <td>5.894324e-01</td>\n",
       "      <td>0</td>\n",
       "      <td>58</td>\n",
       "    </tr>\n",
       "  </tbody>\n",
       "</table>\n",
       "<p>1000000 rows × 7 columns</p>\n",
       "</div>"
      ]
     },
     "execution_count": 926,
     "metadata": {},
     "output_type": "execute_result"
    }
   ],
   "execution_count": 926
  },
  {
   "cell_type": "code",
   "id": "711f2daa-3825-44ba-84d9-07a2609bc3f4",
   "metadata": {
    "ExecuteTime": {
     "end_time": "2024-10-14T20:36:36.194182Z",
     "start_time": "2024-10-14T20:36:36.179233Z"
    }
   },
   "source": [
    "y = edf[\"Rain_Cat_Num\"]\n",
    "y"
   ],
   "outputs": [
    {
     "data": {
      "text/plain": [
       "0         0\n",
       "1         0\n",
       "2         0\n",
       "3         0\n",
       "4         0\n",
       "         ..\n",
       "999995    2\n",
       "999996    2\n",
       "999997    2\n",
       "999998    2\n",
       "999999    2\n",
       "Name: Rain_Cat_Num, Length: 1000000, dtype: int64"
      ]
     },
     "execution_count": 927,
     "metadata": {},
     "output_type": "execute_result"
    }
   ],
   "execution_count": 927
  },
  {
   "cell_type": "code",
   "id": "b82e0c81-200f-494a-9f32-e5f39e276197",
   "metadata": {
    "ExecuteTime": {
     "end_time": "2024-10-14T20:36:36.647266Z",
     "start_time": "2024-10-14T20:36:36.335554Z"
    }
   },
   "source": [
    "from sklearn.model_selection import train_test_split\n",
    "X_train, X_test, y_train, y_test = train_test_split(X, y, test_size = 0.3, stratify=y)"
   ],
   "outputs": [],
   "execution_count": 928
  },
  {
   "cell_type": "code",
   "id": "13b9dd69-cd86-4231-b9f8-8cdf6433a812",
   "metadata": {
    "ExecuteTime": {
     "end_time": "2024-10-14T20:36:36.694078Z",
     "start_time": "2024-10-14T20:36:36.678755Z"
    }
   },
   "source": [
    "y_train"
   ],
   "outputs": [
    {
     "data": {
      "text/plain": [
       "408951    1\n",
       "247757    1\n",
       "83790     0\n",
       "485697    1\n",
       "129449    0\n",
       "         ..\n",
       "713981    1\n",
       "74853     0\n",
       "808531    2\n",
       "884828    2\n",
       "739025    1\n",
       "Name: Rain_Cat_Num, Length: 700000, dtype: int64"
      ]
     },
     "execution_count": 929,
     "metadata": {},
     "output_type": "execute_result"
    }
   ],
   "execution_count": 929
  },
  {
   "cell_type": "code",
   "id": "bbb0758d-9b7f-4047-8bf5-4e1b8ff56adc",
   "metadata": {
    "ExecuteTime": {
     "end_time": "2024-10-14T20:36:36.740894Z",
     "start_time": "2024-10-14T20:36:36.725841Z"
    }
   },
   "source": [
    "y_test"
   ],
   "outputs": [
    {
     "data": {
      "text/plain": [
       "279100    1\n",
       "515719    1\n",
       "864943    2\n",
       "79016     0\n",
       "926839    2\n",
       "         ..\n",
       "123785    0\n",
       "823250    2\n",
       "728262    1\n",
       "472925    1\n",
       "274764    1\n",
       "Name: Rain_Cat_Num, Length: 300000, dtype: int64"
      ]
     },
     "execution_count": 930,
     "metadata": {},
     "output_type": "execute_result"
    }
   ],
   "execution_count": 930
  },
  {
   "cell_type": "code",
   "id": "c453845f-8f1a-4da8-b4e1-ab93141d1393",
   "metadata": {
    "ExecuteTime": {
     "end_time": "2024-10-14T20:36:36.881269Z",
     "start_time": "2024-10-14T20:36:36.870077Z"
    }
   },
   "source": [
    "from xgboost import XGBClassifier"
   ],
   "outputs": [],
   "execution_count": 931
  },
  {
   "cell_type": "code",
   "id": "8292aa17-aab4-433e-94f3-af2bc12569e9",
   "metadata": {
    "ExecuteTime": {
     "end_time": "2024-10-14T20:36:37.805622Z",
     "start_time": "2024-10-14T20:36:37.049507Z"
    }
   },
   "source": [
    "xgb_clf = XGBClassifier(n_estimators=25, max_depth=5)\n",
    "xgb_clf.fit(X_train, y_train)"
   ],
   "outputs": [
    {
     "data": {
      "text/plain": [
       "XGBClassifier(base_score=None, booster=None, callbacks=None,\n",
       "              colsample_bylevel=None, colsample_bynode=None,\n",
       "              colsample_bytree=None, device=None, early_stopping_rounds=None,\n",
       "              enable_categorical=False, eval_metric=None, feature_types=None,\n",
       "              gamma=None, grow_policy=None, importance_type=None,\n",
       "              interaction_constraints=None, learning_rate=None, max_bin=None,\n",
       "              max_cat_threshold=None, max_cat_to_onehot=None,\n",
       "              max_delta_step=None, max_depth=5, max_leaves=None,\n",
       "              min_child_weight=None, missing=nan, monotone_constraints=None,\n",
       "              multi_strategy=None, n_estimators=25, n_jobs=None,\n",
       "              num_parallel_tree=None, objective='multi:softprob', ...)"
      ],
      "text/html": [
       "<style>#sk-container-id-57 {\n",
       "  /* Definition of color scheme common for light and dark mode */\n",
       "  --sklearn-color-text: black;\n",
       "  --sklearn-color-line: gray;\n",
       "  /* Definition of color scheme for unfitted estimators */\n",
       "  --sklearn-color-unfitted-level-0: #fff5e6;\n",
       "  --sklearn-color-unfitted-level-1: #f6e4d2;\n",
       "  --sklearn-color-unfitted-level-2: #ffe0b3;\n",
       "  --sklearn-color-unfitted-level-3: chocolate;\n",
       "  /* Definition of color scheme for fitted estimators */\n",
       "  --sklearn-color-fitted-level-0: #f0f8ff;\n",
       "  --sklearn-color-fitted-level-1: #d4ebff;\n",
       "  --sklearn-color-fitted-level-2: #b3dbfd;\n",
       "  --sklearn-color-fitted-level-3: cornflowerblue;\n",
       "\n",
       "  /* Specific color for light theme */\n",
       "  --sklearn-color-text-on-default-background: var(--sg-text-color, var(--theme-code-foreground, var(--jp-content-font-color1, black)));\n",
       "  --sklearn-color-background: var(--sg-background-color, var(--theme-background, var(--jp-layout-color0, white)));\n",
       "  --sklearn-color-border-box: var(--sg-text-color, var(--theme-code-foreground, var(--jp-content-font-color1, black)));\n",
       "  --sklearn-color-icon: #696969;\n",
       "\n",
       "  @media (prefers-color-scheme: dark) {\n",
       "    /* Redefinition of color scheme for dark theme */\n",
       "    --sklearn-color-text-on-default-background: var(--sg-text-color, var(--theme-code-foreground, var(--jp-content-font-color1, white)));\n",
       "    --sklearn-color-background: var(--sg-background-color, var(--theme-background, var(--jp-layout-color0, #111)));\n",
       "    --sklearn-color-border-box: var(--sg-text-color, var(--theme-code-foreground, var(--jp-content-font-color1, white)));\n",
       "    --sklearn-color-icon: #878787;\n",
       "  }\n",
       "}\n",
       "\n",
       "#sk-container-id-57 {\n",
       "  color: var(--sklearn-color-text);\n",
       "}\n",
       "\n",
       "#sk-container-id-57 pre {\n",
       "  padding: 0;\n",
       "}\n",
       "\n",
       "#sk-container-id-57 input.sk-hidden--visually {\n",
       "  border: 0;\n",
       "  clip: rect(1px 1px 1px 1px);\n",
       "  clip: rect(1px, 1px, 1px, 1px);\n",
       "  height: 1px;\n",
       "  margin: -1px;\n",
       "  overflow: hidden;\n",
       "  padding: 0;\n",
       "  position: absolute;\n",
       "  width: 1px;\n",
       "}\n",
       "\n",
       "#sk-container-id-57 div.sk-dashed-wrapped {\n",
       "  border: 1px dashed var(--sklearn-color-line);\n",
       "  margin: 0 0.4em 0.5em 0.4em;\n",
       "  box-sizing: border-box;\n",
       "  padding-bottom: 0.4em;\n",
       "  background-color: var(--sklearn-color-background);\n",
       "}\n",
       "\n",
       "#sk-container-id-57 div.sk-container {\n",
       "  /* jupyter's `normalize.less` sets `[hidden] { display: none; }`\n",
       "     but bootstrap.min.css set `[hidden] { display: none !important; }`\n",
       "     so we also need the `!important` here to be able to override the\n",
       "     default hidden behavior on the sphinx rendered scikit-learn.org.\n",
       "     See: https://github.com/scikit-learn/scikit-learn/issues/21755 */\n",
       "  display: inline-block !important;\n",
       "  position: relative;\n",
       "}\n",
       "\n",
       "#sk-container-id-57 div.sk-text-repr-fallback {\n",
       "  display: none;\n",
       "}\n",
       "\n",
       "div.sk-parallel-item,\n",
       "div.sk-serial,\n",
       "div.sk-item {\n",
       "  /* draw centered vertical line to link estimators */\n",
       "  background-image: linear-gradient(var(--sklearn-color-text-on-default-background), var(--sklearn-color-text-on-default-background));\n",
       "  background-size: 2px 100%;\n",
       "  background-repeat: no-repeat;\n",
       "  background-position: center center;\n",
       "}\n",
       "\n",
       "/* Parallel-specific style estimator block */\n",
       "\n",
       "#sk-container-id-57 div.sk-parallel-item::after {\n",
       "  content: \"\";\n",
       "  width: 100%;\n",
       "  border-bottom: 2px solid var(--sklearn-color-text-on-default-background);\n",
       "  flex-grow: 1;\n",
       "}\n",
       "\n",
       "#sk-container-id-57 div.sk-parallel {\n",
       "  display: flex;\n",
       "  align-items: stretch;\n",
       "  justify-content: center;\n",
       "  background-color: var(--sklearn-color-background);\n",
       "  position: relative;\n",
       "}\n",
       "\n",
       "#sk-container-id-57 div.sk-parallel-item {\n",
       "  display: flex;\n",
       "  flex-direction: column;\n",
       "}\n",
       "\n",
       "#sk-container-id-57 div.sk-parallel-item:first-child::after {\n",
       "  align-self: flex-end;\n",
       "  width: 50%;\n",
       "}\n",
       "\n",
       "#sk-container-id-57 div.sk-parallel-item:last-child::after {\n",
       "  align-self: flex-start;\n",
       "  width: 50%;\n",
       "}\n",
       "\n",
       "#sk-container-id-57 div.sk-parallel-item:only-child::after {\n",
       "  width: 0;\n",
       "}\n",
       "\n",
       "/* Serial-specific style estimator block */\n",
       "\n",
       "#sk-container-id-57 div.sk-serial {\n",
       "  display: flex;\n",
       "  flex-direction: column;\n",
       "  align-items: center;\n",
       "  background-color: var(--sklearn-color-background);\n",
       "  padding-right: 1em;\n",
       "  padding-left: 1em;\n",
       "}\n",
       "\n",
       "\n",
       "/* Toggleable style: style used for estimator/Pipeline/ColumnTransformer box that is\n",
       "clickable and can be expanded/collapsed.\n",
       "- Pipeline and ColumnTransformer use this feature and define the default style\n",
       "- Estimators will overwrite some part of the style using the `sk-estimator` class\n",
       "*/\n",
       "\n",
       "/* Pipeline and ColumnTransformer style (default) */\n",
       "\n",
       "#sk-container-id-57 div.sk-toggleable {\n",
       "  /* Default theme specific background. It is overwritten whether we have a\n",
       "  specific estimator or a Pipeline/ColumnTransformer */\n",
       "  background-color: var(--sklearn-color-background);\n",
       "}\n",
       "\n",
       "/* Toggleable label */\n",
       "#sk-container-id-57 label.sk-toggleable__label {\n",
       "  cursor: pointer;\n",
       "  display: block;\n",
       "  width: 100%;\n",
       "  margin-bottom: 0;\n",
       "  padding: 0.5em;\n",
       "  box-sizing: border-box;\n",
       "  text-align: center;\n",
       "}\n",
       "\n",
       "#sk-container-id-57 label.sk-toggleable__label-arrow:before {\n",
       "  /* Arrow on the left of the label */\n",
       "  content: \"▸\";\n",
       "  float: left;\n",
       "  margin-right: 0.25em;\n",
       "  color: var(--sklearn-color-icon);\n",
       "}\n",
       "\n",
       "#sk-container-id-57 label.sk-toggleable__label-arrow:hover:before {\n",
       "  color: var(--sklearn-color-text);\n",
       "}\n",
       "\n",
       "/* Toggleable content - dropdown */\n",
       "\n",
       "#sk-container-id-57 div.sk-toggleable__content {\n",
       "  max-height: 0;\n",
       "  max-width: 0;\n",
       "  overflow: hidden;\n",
       "  text-align: left;\n",
       "  /* unfitted */\n",
       "  background-color: var(--sklearn-color-unfitted-level-0);\n",
       "}\n",
       "\n",
       "#sk-container-id-57 div.sk-toggleable__content.fitted {\n",
       "  /* fitted */\n",
       "  background-color: var(--sklearn-color-fitted-level-0);\n",
       "}\n",
       "\n",
       "#sk-container-id-57 div.sk-toggleable__content pre {\n",
       "  margin: 0.2em;\n",
       "  border-radius: 0.25em;\n",
       "  color: var(--sklearn-color-text);\n",
       "  /* unfitted */\n",
       "  background-color: var(--sklearn-color-unfitted-level-0);\n",
       "}\n",
       "\n",
       "#sk-container-id-57 div.sk-toggleable__content.fitted pre {\n",
       "  /* unfitted */\n",
       "  background-color: var(--sklearn-color-fitted-level-0);\n",
       "}\n",
       "\n",
       "#sk-container-id-57 input.sk-toggleable__control:checked~div.sk-toggleable__content {\n",
       "  /* Expand drop-down */\n",
       "  max-height: 200px;\n",
       "  max-width: 100%;\n",
       "  overflow: auto;\n",
       "}\n",
       "\n",
       "#sk-container-id-57 input.sk-toggleable__control:checked~label.sk-toggleable__label-arrow:before {\n",
       "  content: \"▾\";\n",
       "}\n",
       "\n",
       "/* Pipeline/ColumnTransformer-specific style */\n",
       "\n",
       "#sk-container-id-57 div.sk-label input.sk-toggleable__control:checked~label.sk-toggleable__label {\n",
       "  color: var(--sklearn-color-text);\n",
       "  background-color: var(--sklearn-color-unfitted-level-2);\n",
       "}\n",
       "\n",
       "#sk-container-id-57 div.sk-label.fitted input.sk-toggleable__control:checked~label.sk-toggleable__label {\n",
       "  background-color: var(--sklearn-color-fitted-level-2);\n",
       "}\n",
       "\n",
       "/* Estimator-specific style */\n",
       "\n",
       "/* Colorize estimator box */\n",
       "#sk-container-id-57 div.sk-estimator input.sk-toggleable__control:checked~label.sk-toggleable__label {\n",
       "  /* unfitted */\n",
       "  background-color: var(--sklearn-color-unfitted-level-2);\n",
       "}\n",
       "\n",
       "#sk-container-id-57 div.sk-estimator.fitted input.sk-toggleable__control:checked~label.sk-toggleable__label {\n",
       "  /* fitted */\n",
       "  background-color: var(--sklearn-color-fitted-level-2);\n",
       "}\n",
       "\n",
       "#sk-container-id-57 div.sk-label label.sk-toggleable__label,\n",
       "#sk-container-id-57 div.sk-label label {\n",
       "  /* The background is the default theme color */\n",
       "  color: var(--sklearn-color-text-on-default-background);\n",
       "}\n",
       "\n",
       "/* On hover, darken the color of the background */\n",
       "#sk-container-id-57 div.sk-label:hover label.sk-toggleable__label {\n",
       "  color: var(--sklearn-color-text);\n",
       "  background-color: var(--sklearn-color-unfitted-level-2);\n",
       "}\n",
       "\n",
       "/* Label box, darken color on hover, fitted */\n",
       "#sk-container-id-57 div.sk-label.fitted:hover label.sk-toggleable__label.fitted {\n",
       "  color: var(--sklearn-color-text);\n",
       "  background-color: var(--sklearn-color-fitted-level-2);\n",
       "}\n",
       "\n",
       "/* Estimator label */\n",
       "\n",
       "#sk-container-id-57 div.sk-label label {\n",
       "  font-family: monospace;\n",
       "  font-weight: bold;\n",
       "  display: inline-block;\n",
       "  line-height: 1.2em;\n",
       "}\n",
       "\n",
       "#sk-container-id-57 div.sk-label-container {\n",
       "  text-align: center;\n",
       "}\n",
       "\n",
       "/* Estimator-specific */\n",
       "#sk-container-id-57 div.sk-estimator {\n",
       "  font-family: monospace;\n",
       "  border: 1px dotted var(--sklearn-color-border-box);\n",
       "  border-radius: 0.25em;\n",
       "  box-sizing: border-box;\n",
       "  margin-bottom: 0.5em;\n",
       "  /* unfitted */\n",
       "  background-color: var(--sklearn-color-unfitted-level-0);\n",
       "}\n",
       "\n",
       "#sk-container-id-57 div.sk-estimator.fitted {\n",
       "  /* fitted */\n",
       "  background-color: var(--sklearn-color-fitted-level-0);\n",
       "}\n",
       "\n",
       "/* on hover */\n",
       "#sk-container-id-57 div.sk-estimator:hover {\n",
       "  /* unfitted */\n",
       "  background-color: var(--sklearn-color-unfitted-level-2);\n",
       "}\n",
       "\n",
       "#sk-container-id-57 div.sk-estimator.fitted:hover {\n",
       "  /* fitted */\n",
       "  background-color: var(--sklearn-color-fitted-level-2);\n",
       "}\n",
       "\n",
       "/* Specification for estimator info (e.g. \"i\" and \"?\") */\n",
       "\n",
       "/* Common style for \"i\" and \"?\" */\n",
       "\n",
       ".sk-estimator-doc-link,\n",
       "a:link.sk-estimator-doc-link,\n",
       "a:visited.sk-estimator-doc-link {\n",
       "  float: right;\n",
       "  font-size: smaller;\n",
       "  line-height: 1em;\n",
       "  font-family: monospace;\n",
       "  background-color: var(--sklearn-color-background);\n",
       "  border-radius: 1em;\n",
       "  height: 1em;\n",
       "  width: 1em;\n",
       "  text-decoration: none !important;\n",
       "  margin-left: 1ex;\n",
       "  /* unfitted */\n",
       "  border: var(--sklearn-color-unfitted-level-1) 1pt solid;\n",
       "  color: var(--sklearn-color-unfitted-level-1);\n",
       "}\n",
       "\n",
       ".sk-estimator-doc-link.fitted,\n",
       "a:link.sk-estimator-doc-link.fitted,\n",
       "a:visited.sk-estimator-doc-link.fitted {\n",
       "  /* fitted */\n",
       "  border: var(--sklearn-color-fitted-level-1) 1pt solid;\n",
       "  color: var(--sklearn-color-fitted-level-1);\n",
       "}\n",
       "\n",
       "/* On hover */\n",
       "div.sk-estimator:hover .sk-estimator-doc-link:hover,\n",
       ".sk-estimator-doc-link:hover,\n",
       "div.sk-label-container:hover .sk-estimator-doc-link:hover,\n",
       ".sk-estimator-doc-link:hover {\n",
       "  /* unfitted */\n",
       "  background-color: var(--sklearn-color-unfitted-level-3);\n",
       "  color: var(--sklearn-color-background);\n",
       "  text-decoration: none;\n",
       "}\n",
       "\n",
       "div.sk-estimator.fitted:hover .sk-estimator-doc-link.fitted:hover,\n",
       ".sk-estimator-doc-link.fitted:hover,\n",
       "div.sk-label-container:hover .sk-estimator-doc-link.fitted:hover,\n",
       ".sk-estimator-doc-link.fitted:hover {\n",
       "  /* fitted */\n",
       "  background-color: var(--sklearn-color-fitted-level-3);\n",
       "  color: var(--sklearn-color-background);\n",
       "  text-decoration: none;\n",
       "}\n",
       "\n",
       "/* Span, style for the box shown on hovering the info icon */\n",
       ".sk-estimator-doc-link span {\n",
       "  display: none;\n",
       "  z-index: 9999;\n",
       "  position: relative;\n",
       "  font-weight: normal;\n",
       "  right: .2ex;\n",
       "  padding: .5ex;\n",
       "  margin: .5ex;\n",
       "  width: min-content;\n",
       "  min-width: 20ex;\n",
       "  max-width: 50ex;\n",
       "  color: var(--sklearn-color-text);\n",
       "  box-shadow: 2pt 2pt 4pt #999;\n",
       "  /* unfitted */\n",
       "  background: var(--sklearn-color-unfitted-level-0);\n",
       "  border: .5pt solid var(--sklearn-color-unfitted-level-3);\n",
       "}\n",
       "\n",
       ".sk-estimator-doc-link.fitted span {\n",
       "  /* fitted */\n",
       "  background: var(--sklearn-color-fitted-level-0);\n",
       "  border: var(--sklearn-color-fitted-level-3);\n",
       "}\n",
       "\n",
       ".sk-estimator-doc-link:hover span {\n",
       "  display: block;\n",
       "}\n",
       "\n",
       "/* \"?\"-specific style due to the `<a>` HTML tag */\n",
       "\n",
       "#sk-container-id-57 a.estimator_doc_link {\n",
       "  float: right;\n",
       "  font-size: 1rem;\n",
       "  line-height: 1em;\n",
       "  font-family: monospace;\n",
       "  background-color: var(--sklearn-color-background);\n",
       "  border-radius: 1rem;\n",
       "  height: 1rem;\n",
       "  width: 1rem;\n",
       "  text-decoration: none;\n",
       "  /* unfitted */\n",
       "  color: var(--sklearn-color-unfitted-level-1);\n",
       "  border: var(--sklearn-color-unfitted-level-1) 1pt solid;\n",
       "}\n",
       "\n",
       "#sk-container-id-57 a.estimator_doc_link.fitted {\n",
       "  /* fitted */\n",
       "  border: var(--sklearn-color-fitted-level-1) 1pt solid;\n",
       "  color: var(--sklearn-color-fitted-level-1);\n",
       "}\n",
       "\n",
       "/* On hover */\n",
       "#sk-container-id-57 a.estimator_doc_link:hover {\n",
       "  /* unfitted */\n",
       "  background-color: var(--sklearn-color-unfitted-level-3);\n",
       "  color: var(--sklearn-color-background);\n",
       "  text-decoration: none;\n",
       "}\n",
       "\n",
       "#sk-container-id-57 a.estimator_doc_link.fitted:hover {\n",
       "  /* fitted */\n",
       "  background-color: var(--sklearn-color-fitted-level-3);\n",
       "}\n",
       "</style><div id=\"sk-container-id-57\" class=\"sk-top-container\"><div class=\"sk-text-repr-fallback\"><pre>XGBClassifier(base_score=None, booster=None, callbacks=None,\n",
       "              colsample_bylevel=None, colsample_bynode=None,\n",
       "              colsample_bytree=None, device=None, early_stopping_rounds=None,\n",
       "              enable_categorical=False, eval_metric=None, feature_types=None,\n",
       "              gamma=None, grow_policy=None, importance_type=None,\n",
       "              interaction_constraints=None, learning_rate=None, max_bin=None,\n",
       "              max_cat_threshold=None, max_cat_to_onehot=None,\n",
       "              max_delta_step=None, max_depth=5, max_leaves=None,\n",
       "              min_child_weight=None, missing=nan, monotone_constraints=None,\n",
       "              multi_strategy=None, n_estimators=25, n_jobs=None,\n",
       "              num_parallel_tree=None, objective=&#x27;multi:softprob&#x27;, ...)</pre><b>In a Jupyter environment, please rerun this cell to show the HTML representation or trust the notebook. <br />On GitHub, the HTML representation is unable to render, please try loading this page with nbviewer.org.</b></div><div class=\"sk-container\" hidden><div class=\"sk-item\"><div class=\"sk-estimator fitted sk-toggleable\"><input class=\"sk-toggleable__control sk-hidden--visually\" id=\"sk-estimator-id-57\" type=\"checkbox\" checked><label for=\"sk-estimator-id-57\" class=\"sk-toggleable__label fitted sk-toggleable__label-arrow fitted\">&nbsp;XGBClassifier<span class=\"sk-estimator-doc-link fitted\">i<span>Fitted</span></span></label><div class=\"sk-toggleable__content fitted\"><pre>XGBClassifier(base_score=None, booster=None, callbacks=None,\n",
       "              colsample_bylevel=None, colsample_bynode=None,\n",
       "              colsample_bytree=None, device=None, early_stopping_rounds=None,\n",
       "              enable_categorical=False, eval_metric=None, feature_types=None,\n",
       "              gamma=None, grow_policy=None, importance_type=None,\n",
       "              interaction_constraints=None, learning_rate=None, max_bin=None,\n",
       "              max_cat_threshold=None, max_cat_to_onehot=None,\n",
       "              max_delta_step=None, max_depth=5, max_leaves=None,\n",
       "              min_child_weight=None, missing=nan, monotone_constraints=None,\n",
       "              multi_strategy=None, n_estimators=25, n_jobs=None,\n",
       "              num_parallel_tree=None, objective=&#x27;multi:softprob&#x27;, ...)</pre></div> </div></div></div></div>"
      ]
     },
     "execution_count": 932,
     "metadata": {},
     "output_type": "execute_result"
    }
   ],
   "execution_count": 932
  },
  {
   "cell_type": "code",
   "id": "5978db98-75f2-4b12-8810-ef559a2d1601",
   "metadata": {
    "ExecuteTime": {
     "end_time": "2024-10-14T20:36:37.821678Z",
     "start_time": "2024-10-14T20:36:37.813650Z"
    }
   },
   "source": [
    "from sklearn.metrics import accuracy_score"
   ],
   "outputs": [],
   "execution_count": 933
  },
  {
   "cell_type": "code",
   "id": "c1fdd30b-3e63-43a8-b326-146b80c1c6e9",
   "metadata": {
    "ExecuteTime": {
     "end_time": "2024-10-14T20:36:37.918013Z",
     "start_time": "2024-10-14T20:36:37.870849Z"
    }
   },
   "source": [
    "y_train_pred = xgb_clf.predict(X_train)"
   ],
   "outputs": [],
   "execution_count": 934
  },
  {
   "cell_type": "code",
   "id": "165ad73d-7a9a-4107-ab78-a776f218bab6",
   "metadata": {
    "ExecuteTime": {
     "end_time": "2024-10-14T20:36:38.029519Z",
     "start_time": "2024-10-14T20:36:38.014994Z"
    }
   },
   "source": [
    "accuracy_score(y_train, y_train_pred)"
   ],
   "outputs": [
    {
     "data": {
      "text/plain": [
       "0.9989528571428572"
      ]
     },
     "execution_count": 935,
     "metadata": {},
     "output_type": "execute_result"
    }
   ],
   "execution_count": 935
  },
  {
   "cell_type": "code",
   "id": "7d155b51-7a2a-48b9-bc67-5eba02489a39",
   "metadata": {
    "ExecuteTime": {
     "end_time": "2024-10-14T20:36:38.060930Z",
     "start_time": "2024-10-14T20:36:38.033555Z"
    }
   },
   "source": [
    "y_test_pred = xgb_clf.predict(X_test)"
   ],
   "outputs": [],
   "execution_count": 936
  },
  {
   "cell_type": "code",
   "id": "d0cfea49-2332-4d38-b483-5b169dd139a7",
   "metadata": {
    "ExecuteTime": {
     "end_time": "2024-10-14T20:36:38.124150Z",
     "start_time": "2024-10-14T20:36:38.109098Z"
    }
   },
   "source": [
    "accuracy_score(y_test, y_test_pred)"
   ],
   "outputs": [
    {
     "data": {
      "text/plain": [
       "0.9988933333333333"
      ]
     },
     "execution_count": 937,
     "metadata": {},
     "output_type": "execute_result"
    }
   ],
   "execution_count": 937
  },
  {
   "cell_type": "code",
   "id": "43eeda61-5914-42e8-ae35-8795bd5d0207",
   "metadata": {
    "ExecuteTime": {
     "end_time": "2024-10-14T20:36:38.265089Z",
     "start_time": "2024-10-14T20:36:38.157192Z"
    }
   },
   "source": [
    "cm = confusion_matrix(y_train, y_train_pred)\n",
    "disp = ConfusionMatrixDisplay(cm)\n",
    "disp.plot()"
   ],
   "outputs": [
    {
     "data": {
      "text/plain": [
       "<sklearn.metrics._plot.confusion_matrix.ConfusionMatrixDisplay at 0x184afb45060>"
      ]
     },
     "execution_count": 938,
     "metadata": {},
     "output_type": "execute_result"
    },
    {
     "data": {
      "text/plain": [
       "<Figure size 600x400 with 2 Axes>"
      ],
      "image/png": "[encoded data removed]"
     },
     "metadata": {},
     "output_type": "display_data"
    }
   ],
   "execution_count": 938
  },
  {
   "cell_type": "code",
   "id": "43a3cab6-f60c-443c-b7c0-8faeb50dd3ec",
   "metadata": {
    "ExecuteTime": {
     "end_time": "2024-10-14T20:36:38.358836Z",
     "start_time": "2024-10-14T20:36:38.343548Z"
    }
   },
   "source": [
    "# r2Train = []\n",
    "# r2Test = []\n",
    "# for i in range(1, 31):\n",
    "#     xgb = XGBClassifier(n_estimators=25, max_depth=1)\n",
    "#     xgb.fit(X_train, y_train)\n",
    "#     y_train_pred = dt.predict(X_train)\n",
    "#     r2Train.append(r2_score(y_train, y_train_pred))\n",
    "#     y_test_pred = dt.predict(X_test)\n",
    "#     r2Test.append(r2_score(y_test, y_test_pred))"
   ],
   "outputs": [],
   "execution_count": 939
  },
  {
   "cell_type": "markdown",
   "id": "b6b86c009d6203c4",
   "metadata": {},
   "source": [
    "## Tensor Flow Neuro Network"
   ]
  },
  {
   "cell_type": "code",
   "id": "981861ea6c5501ad",
   "metadata": {
    "ExecuteTime": {
     "end_time": "2024-10-14T20:36:38.374154Z",
     "start_time": "2024-10-14T20:36:38.360870Z"
    }
   },
   "source": [
    "# Write Tensor Flow Neuro Network Code Here"
   ],
   "outputs": [],
   "execution_count": 940
  },
  {
   "cell_type": "code",
   "id": "aa25ee4ecaef5f11",
   "metadata": {
    "ExecuteTime": {
     "end_time": "2024-10-14T20:36:38.420757Z",
     "start_time": "2024-10-14T20:36:38.405897Z"
    }
   },
   "source": [
    "print(\"hello\")"
   ],
   "outputs": [
    {
     "name": "stdout",
     "output_type": "stream",
     "text": [
      "hello\n"
     ]
    }
   ],
   "execution_count": 941
  },
  {
   "cell_type": "code",
   "id": "3d15a89c4a282908",
   "metadata": {
    "ExecuteTime": {
     "end_time": "2024-10-14T20:36:38.466900Z",
     "start_time": "2024-10-14T20:36:38.452507Z"
    }
   },
   "source": [],
   "outputs": [],
   "execution_count": null
  }
 ],
 "metadata": {
  "kernelspec": {
   "display_name": "Python 3 (ipykernel)",
   "language": "python",
   "name": "python3"
  },
  "language_info": {
   "codemirror_mode": {
    "name": "ipython",
    "version": 3
   },
   "file_extension": ".py",
   "mimetype": "text/x-python",
   "name": "python",
   "nbconvert_exporter": "python",
   "pygments_lexer": "ipython3",
   "version": "3.12.4"
  }
 },
 "nbformat": 4,
 "nbformat_minor": 5
}
